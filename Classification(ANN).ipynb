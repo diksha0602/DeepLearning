{
  "nbformat": 4,
  "nbformat_minor": 0,
  "metadata": {
    "colab": {
      "provenance": [],
      "authorship_tag": "ABX9TyPCgyGhIOsLJEhvSQj5r13k",
      "include_colab_link": true
    },
    "kernelspec": {
      "name": "python3",
      "display_name": "Python 3"
    },
    "language_info": {
      "name": "python"
    }
  },
  "cells": [
    {
      "cell_type": "markdown",
      "metadata": {
        "id": "view-in-github",
        "colab_type": "text"
      },
      "source": [
        "<a href=\"https://colab.research.google.com/github/diksha0602/DeepLearning/blob/main/Classification(ANN).ipynb\" target=\"_parent\"><img src=\"https://colab.research.google.com/assets/colab-badge.svg\" alt=\"Open In Colab\"/></a>"
      ]
    },
    {
      "cell_type": "code",
      "execution_count": null,
      "metadata": {
        "id": "e66zYymbUIse"
      },
      "outputs": [],
      "source": [
        "#21BAI1777\n",
        "import tensorflow as tf"
      ]
    },
    {
      "cell_type": "code",
      "source": [
        "import matplotlib.pyplot as plt\n",
        "import numpy as np"
      ],
      "metadata": {
        "id": "HfOvrn6IUefk"
      },
      "execution_count": null,
      "outputs": []
    },
    {
      "cell_type": "code",
      "source": [
        "from sklearn.datasets import make_moons\n",
        "from sklearn.model_selection import train_test_split"
      ],
      "metadata": {
        "id": "_Ntl7Bl_Ut_Y"
      },
      "execution_count": null,
      "outputs": []
    },
    {
      "cell_type": "code",
      "source": [
        "from sklearn.preprocessing import StandardScaler"
      ],
      "metadata": {
        "id": "pyWRUjWGVDqK"
      },
      "execution_count": null,
      "outputs": []
    },
    {
      "cell_type": "code",
      "source": [
        "#create classification dataset using make_moons\n",
        "X,y = make_moons(n_samples=1000,noise = 0.2, random_state=42)"
      ],
      "metadata": {
        "id": "KLNX7VD7VPp0"
      },
      "execution_count": null,
      "outputs": []
    },
    {
      "cell_type": "code",
      "source": [
        "#lets see how our dataset looks\n",
        "X"
      ],
      "metadata": {
        "colab": {
          "base_uri": "https://localhost:8080/"
        },
        "id": "G_BXOU9qVdB4",
        "outputId": "ac8c829d-40ec-4538-996e-1fb28a453abf"
      },
      "execution_count": null,
      "outputs": [
        {
          "output_type": "execute_result",
          "data": {
            "text/plain": [
              "array([[-0.11166654,  0.52022374],\n",
              "       [ 1.14264982, -0.34257734],\n",
              "       [ 0.79555796, -0.01144231],\n",
              "       ...,\n",
              "       [ 1.72760808, -0.42882943],\n",
              "       [-1.01448644,  0.13522904],\n",
              "       [ 0.77438101,  0.63428493]])"
            ]
          },
          "metadata": {},
          "execution_count": 6
        }
      ]
    },
    {
      "cell_type": "code",
      "source": [
        "y"
      ],
      "metadata": {
        "colab": {
          "base_uri": "https://localhost:8080/"
        },
        "id": "110tYqzjVkeQ",
        "outputId": "92660e3f-53e1-4658-c835-7dab81f43b3f"
      },
      "execution_count": null,
      "outputs": [
        {
          "output_type": "execute_result",
          "data": {
            "text/plain": [
              "array([1, 1, 1, 1, 0, 1, 1, 1, 1, 0, 1, 0, 1, 1, 1, 1, 0, 1, 1, 0, 1, 0,\n",
              "       0, 1, 0, 0, 0, 1, 1, 1, 0, 0, 1, 0, 0, 0, 1, 1, 1, 0, 0, 0, 0, 1,\n",
              "       0, 0, 1, 1, 0, 1, 1, 1, 0, 1, 0, 0, 1, 0, 0, 1, 0, 0, 1, 0, 1, 1,\n",
              "       1, 1, 0, 1, 0, 0, 1, 1, 0, 0, 1, 0, 1, 0, 1, 0, 0, 0, 0, 1, 1, 1,\n",
              "       1, 0, 0, 0, 1, 0, 1, 0, 1, 0, 0, 1, 1, 0, 1, 0, 1, 1, 1, 1, 0, 1,\n",
              "       1, 1, 1, 1, 0, 0, 0, 1, 1, 0, 1, 0, 1, 0, 0, 1, 1, 0, 1, 1, 1, 1,\n",
              "       0, 1, 1, 0, 0, 0, 0, 0, 0, 0, 1, 0, 1, 1, 1, 0, 1, 0, 1, 0, 1, 0,\n",
              "       1, 0, 0, 1, 0, 1, 1, 1, 1, 1, 1, 1, 0, 1, 0, 0, 0, 0, 0, 1, 0, 0,\n",
              "       0, 0, 1, 1, 0, 1, 0, 1, 1, 0, 0, 0, 1, 1, 1, 1, 1, 0, 0, 0, 0, 0,\n",
              "       1, 0, 0, 1, 1, 1, 1, 1, 0, 1, 0, 1, 0, 0, 1, 1, 1, 0, 1, 0, 1, 1,\n",
              "       0, 1, 1, 0, 1, 0, 1, 0, 1, 1, 0, 1, 0, 1, 0, 0, 0, 1, 0, 0, 0, 0,\n",
              "       1, 1, 0, 0, 0, 0, 0, 0, 0, 1, 1, 1, 0, 0, 1, 1, 1, 0, 1, 0, 0, 0,\n",
              "       0, 1, 1, 0, 1, 0, 0, 0, 1, 0, 1, 0, 0, 1, 0, 1, 1, 1, 0, 0, 0, 1,\n",
              "       0, 0, 0, 1, 1, 1, 1, 0, 0, 0, 1, 0, 0, 0, 1, 0, 0, 0, 1, 1, 0, 1,\n",
              "       1, 1, 1, 1, 1, 1, 0, 0, 0, 0, 1, 0, 0, 0, 0, 1, 1, 1, 0, 0, 1, 0,\n",
              "       1, 0, 1, 1, 0, 0, 1, 1, 1, 1, 0, 0, 0, 0, 0, 0, 1, 1, 0, 1, 0, 0,\n",
              "       1, 0, 0, 0, 0, 0, 0, 0, 0, 1, 0, 0, 0, 0, 1, 0, 0, 1, 0, 1, 0, 0,\n",
              "       0, 1, 0, 0, 1, 1, 0, 0, 1, 0, 0, 1, 1, 0, 1, 1, 0, 0, 1, 0, 1, 0,\n",
              "       0, 0, 1, 1, 0, 0, 1, 1, 1, 1, 1, 0, 0, 1, 1, 1, 1, 0, 1, 1, 1, 1,\n",
              "       1, 0, 0, 1, 0, 1, 0, 0, 0, 0, 1, 0, 0, 0, 0, 0, 0, 0, 0, 0, 1, 1,\n",
              "       0, 1, 1, 1, 1, 1, 1, 0, 1, 1, 1, 1, 0, 0, 0, 1, 1, 1, 0, 0, 0, 0,\n",
              "       1, 1, 0, 0, 0, 0, 1, 0, 0, 0, 1, 0, 0, 1, 1, 1, 1, 1, 1, 0, 0, 0,\n",
              "       1, 0, 0, 0, 0, 0, 1, 1, 1, 0, 0, 0, 0, 0, 1, 1, 1, 0, 0, 1, 1, 1,\n",
              "       1, 0, 1, 1, 0, 1, 0, 0, 0, 1, 0, 0, 1, 0, 0, 1, 1, 0, 0, 1, 1, 0,\n",
              "       1, 0, 1, 0, 1, 0, 1, 0, 0, 0, 1, 0, 0, 0, 0, 0, 0, 1, 1, 1, 1, 0,\n",
              "       0, 0, 1, 0, 1, 1, 0, 0, 0, 0, 0, 1, 1, 1, 0, 0, 1, 0, 0, 1, 0, 0,\n",
              "       1, 0, 0, 1, 0, 0, 0, 1, 0, 0, 1, 1, 1, 0, 1, 1, 0, 0, 0, 1, 1, 1,\n",
              "       1, 0, 0, 1, 1, 1, 0, 0, 0, 0, 1, 1, 0, 0, 1, 1, 0, 0, 1, 1, 1, 1,\n",
              "       1, 1, 1, 0, 1, 0, 1, 0, 0, 1, 0, 1, 1, 1, 1, 0, 0, 1, 1, 0, 0, 1,\n",
              "       0, 1, 0, 0, 0, 1, 0, 0, 1, 1, 1, 1, 0, 1, 1, 1, 1, 1, 1, 1, 0, 1,\n",
              "       0, 1, 1, 1, 0, 0, 1, 0, 0, 0, 1, 1, 1, 1, 0, 0, 0, 0, 1, 0, 1, 1,\n",
              "       1, 0, 1, 0, 0, 1, 0, 0, 1, 1, 1, 1, 1, 0, 1, 0, 0, 0, 1, 1, 1, 1,\n",
              "       1, 0, 0, 0, 1, 1, 1, 1, 0, 0, 0, 0, 0, 1, 1, 0, 1, 0, 1, 0, 0, 0,\n",
              "       0, 0, 0, 0, 0, 0, 1, 1, 1, 1, 1, 0, 1, 0, 1, 1, 1, 1, 0, 1, 1, 1,\n",
              "       1, 1, 1, 1, 1, 0, 1, 1, 0, 1, 0, 0, 0, 1, 0, 1, 1, 1, 0, 1, 1, 0,\n",
              "       1, 1, 0, 1, 0, 1, 1, 0, 0, 1, 1, 1, 0, 0, 0, 0, 1, 1, 0, 0, 1, 1,\n",
              "       1, 1, 1, 1, 1, 1, 1, 1, 1, 1, 1, 1, 0, 0, 1, 0, 1, 0, 1, 0, 1, 1,\n",
              "       1, 1, 1, 1, 0, 1, 0, 1, 1, 1, 0, 1, 1, 0, 0, 1, 0, 1, 1, 0, 0, 1,\n",
              "       1, 1, 1, 1, 1, 1, 1, 0, 1, 1, 1, 0, 1, 0, 0, 1, 1, 0, 0, 0, 1, 0,\n",
              "       0, 1, 0, 0, 0, 1, 0, 1, 0, 0, 0, 0, 1, 0, 1, 1, 1, 1, 0, 1, 0, 0,\n",
              "       0, 0, 0, 0, 1, 0, 1, 0, 1, 0, 1, 1, 1, 0, 1, 0, 1, 0, 0, 1, 1, 1,\n",
              "       0, 0, 0, 1, 1, 0, 1, 0, 1, 1, 0, 1, 0, 0, 1, 1, 1, 0, 0, 0, 1, 1,\n",
              "       0, 0, 0, 0, 0, 1, 1, 0, 1, 0, 0, 0, 1, 0, 0, 0, 1, 1, 1, 1, 0, 1,\n",
              "       1, 1, 0, 1, 1, 1, 1, 0, 1, 1, 0, 1, 1, 0, 0, 1, 1, 1, 0, 0, 0, 0,\n",
              "       0, 0, 1, 0, 0, 1, 0, 0, 0, 1, 0, 1, 0, 1, 1, 0, 0, 0, 0, 0, 0, 0,\n",
              "       0, 1, 0, 1, 0, 0, 0, 1, 0, 0])"
            ]
          },
          "metadata": {},
          "execution_count": 7
        }
      ]
    },
    {
      "cell_type": "code",
      "source": [
        "#binary classification\n",
        "#to visualise the dataset we require it to be in dataframes\n",
        "import pandas as pd\n",
        "df = pd.DataFrame({\"X0\":X[:,0],\"X1\":X[:,1],\"label\":y[:]})\n",
        "df.head()"
      ],
      "metadata": {
        "colab": {
          "base_uri": "https://localhost:8080/",
          "height": 206
        },
        "id": "J3JkQIWyVlnW",
        "outputId": "5a8fb176-2eb3-4be7-b43d-0c5d8f7b5b31"
      },
      "execution_count": null,
      "outputs": [
        {
          "output_type": "execute_result",
          "data": {
            "text/plain": [
              "         X0        X1  label\n",
              "0 -0.111667  0.520224      1\n",
              "1  1.142650 -0.342577      1\n",
              "2  0.795558 -0.011442      1\n",
              "3  0.111827 -0.551932      1\n",
              "4 -0.816466  0.543996      0"
            ],
            "text/html": [
              "\n",
              "  <div id=\"df-12ef4600-2ead-4c23-9beb-0d22e7d52ae2\" class=\"colab-df-container\">\n",
              "    <div>\n",
              "<style scoped>\n",
              "    .dataframe tbody tr th:only-of-type {\n",
              "        vertical-align: middle;\n",
              "    }\n",
              "\n",
              "    .dataframe tbody tr th {\n",
              "        vertical-align: top;\n",
              "    }\n",
              "\n",
              "    .dataframe thead th {\n",
              "        text-align: right;\n",
              "    }\n",
              "</style>\n",
              "<table border=\"1\" class=\"dataframe\">\n",
              "  <thead>\n",
              "    <tr style=\"text-align: right;\">\n",
              "      <th></th>\n",
              "      <th>X0</th>\n",
              "      <th>X1</th>\n",
              "      <th>label</th>\n",
              "    </tr>\n",
              "  </thead>\n",
              "  <tbody>\n",
              "    <tr>\n",
              "      <th>0</th>\n",
              "      <td>-0.111667</td>\n",
              "      <td>0.520224</td>\n",
              "      <td>1</td>\n",
              "    </tr>\n",
              "    <tr>\n",
              "      <th>1</th>\n",
              "      <td>1.142650</td>\n",
              "      <td>-0.342577</td>\n",
              "      <td>1</td>\n",
              "    </tr>\n",
              "    <tr>\n",
              "      <th>2</th>\n",
              "      <td>0.795558</td>\n",
              "      <td>-0.011442</td>\n",
              "      <td>1</td>\n",
              "    </tr>\n",
              "    <tr>\n",
              "      <th>3</th>\n",
              "      <td>0.111827</td>\n",
              "      <td>-0.551932</td>\n",
              "      <td>1</td>\n",
              "    </tr>\n",
              "    <tr>\n",
              "      <th>4</th>\n",
              "      <td>-0.816466</td>\n",
              "      <td>0.543996</td>\n",
              "      <td>0</td>\n",
              "    </tr>\n",
              "  </tbody>\n",
              "</table>\n",
              "</div>\n",
              "    <div class=\"colab-df-buttons\">\n",
              "\n",
              "  <div class=\"colab-df-container\">\n",
              "    <button class=\"colab-df-convert\" onclick=\"convertToInteractive('df-12ef4600-2ead-4c23-9beb-0d22e7d52ae2')\"\n",
              "            title=\"Convert this dataframe to an interactive table.\"\n",
              "            style=\"display:none;\">\n",
              "\n",
              "  <svg xmlns=\"http://www.w3.org/2000/svg\" height=\"24px\" viewBox=\"0 -960 960 960\">\n",
              "    <path d=\"M120-120v-720h720v720H120Zm60-500h600v-160H180v160Zm220 220h160v-160H400v160Zm0 220h160v-160H400v160ZM180-400h160v-160H180v160Zm440 0h160v-160H620v160ZM180-180h160v-160H180v160Zm440 0h160v-160H620v160Z\"/>\n",
              "  </svg>\n",
              "    </button>\n",
              "\n",
              "  <style>\n",
              "    .colab-df-container {\n",
              "      display:flex;\n",
              "      gap: 12px;\n",
              "    }\n",
              "\n",
              "    .colab-df-convert {\n",
              "      background-color: #E8F0FE;\n",
              "      border: none;\n",
              "      border-radius: 50%;\n",
              "      cursor: pointer;\n",
              "      display: none;\n",
              "      fill: #1967D2;\n",
              "      height: 32px;\n",
              "      padding: 0 0 0 0;\n",
              "      width: 32px;\n",
              "    }\n",
              "\n",
              "    .colab-df-convert:hover {\n",
              "      background-color: #E2EBFA;\n",
              "      box-shadow: 0px 1px 2px rgba(60, 64, 67, 0.3), 0px 1px 3px 1px rgba(60, 64, 67, 0.15);\n",
              "      fill: #174EA6;\n",
              "    }\n",
              "\n",
              "    .colab-df-buttons div {\n",
              "      margin-bottom: 4px;\n",
              "    }\n",
              "\n",
              "    [theme=dark] .colab-df-convert {\n",
              "      background-color: #3B4455;\n",
              "      fill: #D2E3FC;\n",
              "    }\n",
              "\n",
              "    [theme=dark] .colab-df-convert:hover {\n",
              "      background-color: #434B5C;\n",
              "      box-shadow: 0px 1px 3px 1px rgba(0, 0, 0, 0.15);\n",
              "      filter: drop-shadow(0px 1px 2px rgba(0, 0, 0, 0.3));\n",
              "      fill: #FFFFFF;\n",
              "    }\n",
              "  </style>\n",
              "\n",
              "    <script>\n",
              "      const buttonEl =\n",
              "        document.querySelector('#df-12ef4600-2ead-4c23-9beb-0d22e7d52ae2 button.colab-df-convert');\n",
              "      buttonEl.style.display =\n",
              "        google.colab.kernel.accessAllowed ? 'block' : 'none';\n",
              "\n",
              "      async function convertToInteractive(key) {\n",
              "        const element = document.querySelector('#df-12ef4600-2ead-4c23-9beb-0d22e7d52ae2');\n",
              "        const dataTable =\n",
              "          await google.colab.kernel.invokeFunction('convertToInteractive',\n",
              "                                                    [key], {});\n",
              "        if (!dataTable) return;\n",
              "\n",
              "        const docLinkHtml = 'Like what you see? Visit the ' +\n",
              "          '<a target=\"_blank\" href=https://colab.research.google.com/notebooks/data_table.ipynb>data table notebook</a>'\n",
              "          + ' to learn more about interactive tables.';\n",
              "        element.innerHTML = '';\n",
              "        dataTable['output_type'] = 'display_data';\n",
              "        await google.colab.output.renderOutput(dataTable, element);\n",
              "        const docLink = document.createElement('div');\n",
              "        docLink.innerHTML = docLinkHtml;\n",
              "        element.appendChild(docLink);\n",
              "      }\n",
              "    </script>\n",
              "  </div>\n",
              "\n",
              "\n",
              "<div id=\"df-9cdbf811-63b8-4a14-8faa-e8927030c10d\">\n",
              "  <button class=\"colab-df-quickchart\" onclick=\"quickchart('df-9cdbf811-63b8-4a14-8faa-e8927030c10d')\"\n",
              "            title=\"Suggest charts\"\n",
              "            style=\"display:none;\">\n",
              "\n",
              "<svg xmlns=\"http://www.w3.org/2000/svg\" height=\"24px\"viewBox=\"0 0 24 24\"\n",
              "     width=\"24px\">\n",
              "    <g>\n",
              "        <path d=\"M19 3H5c-1.1 0-2 .9-2 2v14c0 1.1.9 2 2 2h14c1.1 0 2-.9 2-2V5c0-1.1-.9-2-2-2zM9 17H7v-7h2v7zm4 0h-2V7h2v10zm4 0h-2v-4h2v4z\"/>\n",
              "    </g>\n",
              "</svg>\n",
              "  </button>\n",
              "\n",
              "<style>\n",
              "  .colab-df-quickchart {\n",
              "      --bg-color: #E8F0FE;\n",
              "      --fill-color: #1967D2;\n",
              "      --hover-bg-color: #E2EBFA;\n",
              "      --hover-fill-color: #174EA6;\n",
              "      --disabled-fill-color: #AAA;\n",
              "      --disabled-bg-color: #DDD;\n",
              "  }\n",
              "\n",
              "  [theme=dark] .colab-df-quickchart {\n",
              "      --bg-color: #3B4455;\n",
              "      --fill-color: #D2E3FC;\n",
              "      --hover-bg-color: #434B5C;\n",
              "      --hover-fill-color: #FFFFFF;\n",
              "      --disabled-bg-color: #3B4455;\n",
              "      --disabled-fill-color: #666;\n",
              "  }\n",
              "\n",
              "  .colab-df-quickchart {\n",
              "    background-color: var(--bg-color);\n",
              "    border: none;\n",
              "    border-radius: 50%;\n",
              "    cursor: pointer;\n",
              "    display: none;\n",
              "    fill: var(--fill-color);\n",
              "    height: 32px;\n",
              "    padding: 0;\n",
              "    width: 32px;\n",
              "  }\n",
              "\n",
              "  .colab-df-quickchart:hover {\n",
              "    background-color: var(--hover-bg-color);\n",
              "    box-shadow: 0 1px 2px rgba(60, 64, 67, 0.3), 0 1px 3px 1px rgba(60, 64, 67, 0.15);\n",
              "    fill: var(--button-hover-fill-color);\n",
              "  }\n",
              "\n",
              "  .colab-df-quickchart-complete:disabled,\n",
              "  .colab-df-quickchart-complete:disabled:hover {\n",
              "    background-color: var(--disabled-bg-color);\n",
              "    fill: var(--disabled-fill-color);\n",
              "    box-shadow: none;\n",
              "  }\n",
              "\n",
              "  .colab-df-spinner {\n",
              "    border: 2px solid var(--fill-color);\n",
              "    border-color: transparent;\n",
              "    border-bottom-color: var(--fill-color);\n",
              "    animation:\n",
              "      spin 1s steps(1) infinite;\n",
              "  }\n",
              "\n",
              "  @keyframes spin {\n",
              "    0% {\n",
              "      border-color: transparent;\n",
              "      border-bottom-color: var(--fill-color);\n",
              "      border-left-color: var(--fill-color);\n",
              "    }\n",
              "    20% {\n",
              "      border-color: transparent;\n",
              "      border-left-color: var(--fill-color);\n",
              "      border-top-color: var(--fill-color);\n",
              "    }\n",
              "    30% {\n",
              "      border-color: transparent;\n",
              "      border-left-color: var(--fill-color);\n",
              "      border-top-color: var(--fill-color);\n",
              "      border-right-color: var(--fill-color);\n",
              "    }\n",
              "    40% {\n",
              "      border-color: transparent;\n",
              "      border-right-color: var(--fill-color);\n",
              "      border-top-color: var(--fill-color);\n",
              "    }\n",
              "    60% {\n",
              "      border-color: transparent;\n",
              "      border-right-color: var(--fill-color);\n",
              "    }\n",
              "    80% {\n",
              "      border-color: transparent;\n",
              "      border-right-color: var(--fill-color);\n",
              "      border-bottom-color: var(--fill-color);\n",
              "    }\n",
              "    90% {\n",
              "      border-color: transparent;\n",
              "      border-bottom-color: var(--fill-color);\n",
              "    }\n",
              "  }\n",
              "</style>\n",
              "\n",
              "  <script>\n",
              "    async function quickchart(key) {\n",
              "      const quickchartButtonEl =\n",
              "        document.querySelector('#' + key + ' button');\n",
              "      quickchartButtonEl.disabled = true;  // To prevent multiple clicks.\n",
              "      quickchartButtonEl.classList.add('colab-df-spinner');\n",
              "      try {\n",
              "        const charts = await google.colab.kernel.invokeFunction(\n",
              "            'suggestCharts', [key], {});\n",
              "      } catch (error) {\n",
              "        console.error('Error during call to suggestCharts:', error);\n",
              "      }\n",
              "      quickchartButtonEl.classList.remove('colab-df-spinner');\n",
              "      quickchartButtonEl.classList.add('colab-df-quickchart-complete');\n",
              "    }\n",
              "    (() => {\n",
              "      let quickchartButtonEl =\n",
              "        document.querySelector('#df-9cdbf811-63b8-4a14-8faa-e8927030c10d button');\n",
              "      quickchartButtonEl.style.display =\n",
              "        google.colab.kernel.accessAllowed ? 'block' : 'none';\n",
              "    })();\n",
              "  </script>\n",
              "</div>\n",
              "\n",
              "    </div>\n",
              "  </div>\n"
            ]
          },
          "metadata": {},
          "execution_count": 8
        }
      ]
    },
    {
      "cell_type": "code",
      "source": [
        "#the number of labels\n",
        "df.label.value_counts()"
      ],
      "metadata": {
        "colab": {
          "base_uri": "https://localhost:8080/"
        },
        "id": "5aOLXAkkV59p",
        "outputId": "1775a0eb-347e-43a9-d32a-118c9e92f80f"
      },
      "execution_count": null,
      "outputs": [
        {
          "output_type": "execute_result",
          "data": {
            "text/plain": [
              "1    500\n",
              "0    500\n",
              "Name: label, dtype: int64"
            ]
          },
          "metadata": {},
          "execution_count": 9
        }
      ]
    },
    {
      "cell_type": "code",
      "source": [
        "#Visualise the dataset\n",
        "plt.figure(figsize=(8,6))\n",
        "plt.scatter(X[y==0][:,0],X[y==0][:,1],color='red',label='Class 0') #the X whose y==0\n",
        "plt.scatter(X[y==1][:,0],X[y==1][:,1],color='blue',label='Class 1')\n",
        "plt.title('Generated Moon Dataset')\n",
        "plt.legend()\n",
        "plt.show()"
      ],
      "metadata": {
        "colab": {
          "base_uri": "https://localhost:8080/",
          "height": 545
        },
        "id": "gd3u_BqvV-bb",
        "outputId": "355e74e4-729a-4d2f-886e-46d4422cab61"
      },
      "execution_count": null,
      "outputs": [
        {
          "output_type": "display_data",
          "data": {
            "text/plain": [
              "<Figure size 800x600 with 1 Axes>"
            ],
            "image/png": "[encoded data removed]"
          },
          "metadata": {}
        }
      ]
    },
    {
      "cell_type": "code",
      "source": [
        "#checking the shapes of the dataset\n",
        "X.shape, y.shape"
      ],
      "metadata": {
        "colab": {
          "base_uri": "https://localhost:8080/"
        },
        "id": "5bOoGKhcW115",
        "outputId": "fe09aaa4-d1ac-4a75-8489-d7b7db807cdb"
      },
      "execution_count": null,
      "outputs": [
        {
          "output_type": "execute_result",
          "data": {
            "text/plain": [
              "((1000, 2), (1000,))"
            ]
          },
          "metadata": {},
          "execution_count": 11
        }
      ]
    },
    {
      "cell_type": "code",
      "source": [
        "len(X), len(y)"
      ],
      "metadata": {
        "colab": {
          "base_uri": "https://localhost:8080/"
        },
        "id": "k4yyCoS8W_rU",
        "outputId": "01dd8ccb-81d4-4b6c-d59e-f400a9173933"
      },
      "execution_count": null,
      "outputs": [
        {
          "output_type": "execute_result",
          "data": {
            "text/plain": [
              "(1000, 1000)"
            ]
          },
          "metadata": {},
          "execution_count": 12
        }
      ]
    },
    {
      "cell_type": "code",
      "source": [
        "X[0],y[0]"
      ],
      "metadata": {
        "colab": {
          "base_uri": "https://localhost:8080/"
        },
        "id": "fQo6CqTJXChV",
        "outputId": "9929e4ca-9c8a-45d2-b27f-3fe16adf49b9"
      },
      "execution_count": null,
      "outputs": [
        {
          "output_type": "execute_result",
          "data": {
            "text/plain": [
              "(array([-0.11166654,  0.52022374]), 1)"
            ]
          },
          "metadata": {},
          "execution_count": 13
        }
      ]
    },
    {
      "cell_type": "code",
      "source": [
        "#split the dataset into training and testing set\n",
        "X_train, X_test, y_train, y_test = train_test_split(X,y,test_size=0.2,random_state=42)"
      ],
      "metadata": {
        "id": "SKCYb80RXG0r"
      },
      "execution_count": null,
      "outputs": []
    },
    {
      "cell_type": "code",
      "source": [
        "X_train.shape, X_test.shape"
      ],
      "metadata": {
        "colab": {
          "base_uri": "https://localhost:8080/"
        },
        "id": "TEx2b2m_XY7V",
        "outputId": "2bb17fbf-e62d-4918-98d2-0b692c376fba"
      },
      "execution_count": null,
      "outputs": [
        {
          "output_type": "execute_result",
          "data": {
            "text/plain": [
              "((800, 2), (200, 2))"
            ]
          },
          "metadata": {},
          "execution_count": 16
        }
      ]
    },
    {
      "cell_type": "code",
      "source": [
        "#Standardize the features\n",
        "scaler = StandardScaler()\n",
        "X_train_scaled = scaler.fit_transform(X_train)\n",
        "X_test_scaled = scaler.fit_transform(X_test)"
      ],
      "metadata": {
        "id": "CiujRTQ6Xhxo"
      },
      "execution_count": null,
      "outputs": []
    },
    {
      "cell_type": "code",
      "source": [
        "#Building the model\n",
        "#set random seed\n",
        "tf.random.set_seed(42)\n",
        "model = tf.keras.Sequential([\n",
        "    tf.keras.layers.Dense(64, activation='relu',input_shape=(2,)),\n",
        "    tf.keras.layers.Dense(64,activation='relu'),\n",
        "    tf.keras.layers.Dense(1,activation='sigmoid')#output layer\n",
        "])"
      ],
      "metadata": {
        "id": "inX_IMe0X2A6"
      },
      "execution_count": null,
      "outputs": []
    },
    {
      "cell_type": "code",
      "source": [
        "model.compile(loss=tf.keras.losses.BinaryCrossentropy(),\n",
        "              optimizer = tf.keras.optimizers.Adam(),\n",
        "              metrics=['accuracy']) #classification specific loss and metrics"
      ],
      "metadata": {
        "id": "LTEHbv7FZJQ0"
      },
      "execution_count": null,
      "outputs": []
    },
    {
      "cell_type": "code",
      "source": [
        "model.fit(X_train_scaled,y_train,epochs=100,batch_size=32,validation_data=(X_test_scaled,y_test))"
      ],
      "metadata": {
        "colab": {
          "base_uri": "https://localhost:8080/"
        },
        "id": "XjmzB0UbZeAd",
        "outputId": "c900f417-8f7c-4938-d739-94600ca32f49"
      },
      "execution_count": null,
      "outputs": [
        {
          "output_type": "stream",
          "name": "stdout",
          "text": [
            "Epoch 1/100\n",
            "25/25 [==============================] - 2s 14ms/step - loss: 0.5597 - accuracy: 0.8050 - val_loss: 0.4562 - val_accuracy: 0.8550\n",
            "Epoch 2/100\n",
            "25/25 [==============================] - 0s 4ms/step - loss: 0.3806 - accuracy: 0.8662 - val_loss: 0.3309 - val_accuracy: 0.8750\n",
            "Epoch 3/100\n",
            "25/25 [==============================] - 0s 5ms/step - loss: 0.3022 - accuracy: 0.8712 - val_loss: 0.2901 - val_accuracy: 0.8700\n",
            "Epoch 4/100\n",
            "25/25 [==============================] - 0s 6ms/step - loss: 0.2822 - accuracy: 0.8763 - val_loss: 0.2777 - val_accuracy: 0.8700\n",
            "Epoch 5/100\n",
            "25/25 [==============================] - 0s 7ms/step - loss: 0.2738 - accuracy: 0.8775 - val_loss: 0.2670 - val_accuracy: 0.8750\n",
            "Epoch 6/100\n",
            "25/25 [==============================] - 0s 7ms/step - loss: 0.2639 - accuracy: 0.8838 - val_loss: 0.2564 - val_accuracy: 0.8900\n",
            "Epoch 7/100\n",
            "25/25 [==============================] - 0s 6ms/step - loss: 0.2552 - accuracy: 0.8838 - val_loss: 0.2459 - val_accuracy: 0.8900\n",
            "Epoch 8/100\n",
            "25/25 [==============================] - 0s 6ms/step - loss: 0.2452 - accuracy: 0.8900 - val_loss: 0.2342 - val_accuracy: 0.8950\n",
            "Epoch 9/100\n",
            "25/25 [==============================] - 0s 6ms/step - loss: 0.2357 - accuracy: 0.8938 - val_loss: 0.2217 - val_accuracy: 0.8950\n",
            "Epoch 10/100\n",
            "25/25 [==============================] - 0s 5ms/step - loss: 0.2239 - accuracy: 0.9000 - val_loss: 0.2089 - val_accuracy: 0.9100\n",
            "Epoch 11/100\n",
            "25/25 [==============================] - 0s 6ms/step - loss: 0.2112 - accuracy: 0.9075 - val_loss: 0.1931 - val_accuracy: 0.9200\n",
            "Epoch 12/100\n",
            "25/25 [==============================] - 0s 6ms/step - loss: 0.1975 - accuracy: 0.9137 - val_loss: 0.1796 - val_accuracy: 0.9250\n",
            "Epoch 13/100\n",
            "25/25 [==============================] - 0s 6ms/step - loss: 0.1843 - accuracy: 0.9225 - val_loss: 0.1634 - val_accuracy: 0.9250\n",
            "Epoch 14/100\n",
            "25/25 [==============================] - 0s 6ms/step - loss: 0.1712 - accuracy: 0.9262 - val_loss: 0.1483 - val_accuracy: 0.9500\n",
            "Epoch 15/100\n",
            "25/25 [==============================] - 0s 6ms/step - loss: 0.1580 - accuracy: 0.9438 - val_loss: 0.1367 - val_accuracy: 0.9600\n",
            "Epoch 16/100\n",
            "25/25 [==============================] - 0s 6ms/step - loss: 0.1467 - accuracy: 0.9475 - val_loss: 0.1234 - val_accuracy: 0.9650\n",
            "Epoch 17/100\n",
            "25/25 [==============================] - 0s 6ms/step - loss: 0.1366 - accuracy: 0.9575 - val_loss: 0.1121 - val_accuracy: 0.9800\n",
            "Epoch 18/100\n",
            "25/25 [==============================] - 0s 4ms/step - loss: 0.1275 - accuracy: 0.9588 - val_loss: 0.1032 - val_accuracy: 0.9800\n",
            "Epoch 19/100\n",
            "25/25 [==============================] - 0s 4ms/step - loss: 0.1189 - accuracy: 0.9638 - val_loss: 0.0941 - val_accuracy: 0.9800\n",
            "Epoch 20/100\n",
            "25/25 [==============================] - 0s 4ms/step - loss: 0.1127 - accuracy: 0.9625 - val_loss: 0.0871 - val_accuracy: 0.9800\n",
            "Epoch 21/100\n",
            "25/25 [==============================] - 0s 3ms/step - loss: 0.1072 - accuracy: 0.9650 - val_loss: 0.0820 - val_accuracy: 0.9750\n",
            "Epoch 22/100\n",
            "25/25 [==============================] - 0s 4ms/step - loss: 0.1029 - accuracy: 0.9613 - val_loss: 0.0760 - val_accuracy: 0.9800\n",
            "Epoch 23/100\n",
            "25/25 [==============================] - 0s 3ms/step - loss: 0.0980 - accuracy: 0.9675 - val_loss: 0.0736 - val_accuracy: 0.9800\n",
            "Epoch 24/100\n",
            "25/25 [==============================] - 0s 4ms/step - loss: 0.0958 - accuracy: 0.9675 - val_loss: 0.0673 - val_accuracy: 0.9800\n",
            "Epoch 25/100\n",
            "25/25 [==============================] - 0s 4ms/step - loss: 0.0927 - accuracy: 0.9663 - val_loss: 0.0666 - val_accuracy: 0.9800\n",
            "Epoch 26/100\n",
            "25/25 [==============================] - 0s 4ms/step - loss: 0.0914 - accuracy: 0.9650 - val_loss: 0.0632 - val_accuracy: 0.9800\n",
            "Epoch 27/100\n",
            "25/25 [==============================] - 0s 4ms/step - loss: 0.0886 - accuracy: 0.9725 - val_loss: 0.0641 - val_accuracy: 0.9750\n",
            "Epoch 28/100\n",
            "25/25 [==============================] - 0s 6ms/step - loss: 0.0856 - accuracy: 0.9712 - val_loss: 0.0615 - val_accuracy: 0.9800\n",
            "Epoch 29/100\n",
            "25/25 [==============================] - 0s 4ms/step - loss: 0.0840 - accuracy: 0.9712 - val_loss: 0.0587 - val_accuracy: 0.9750\n",
            "Epoch 30/100\n",
            "25/25 [==============================] - 0s 5ms/step - loss: 0.0830 - accuracy: 0.9725 - val_loss: 0.0571 - val_accuracy: 0.9750\n",
            "Epoch 31/100\n",
            "25/25 [==============================] - 0s 4ms/step - loss: 0.0809 - accuracy: 0.9700 - val_loss: 0.0557 - val_accuracy: 0.9750\n",
            "Epoch 32/100\n",
            "25/25 [==============================] - 0s 5ms/step - loss: 0.0811 - accuracy: 0.9700 - val_loss: 0.0540 - val_accuracy: 0.9900\n",
            "Epoch 33/100\n",
            "25/25 [==============================] - 0s 4ms/step - loss: 0.0775 - accuracy: 0.9725 - val_loss: 0.0550 - val_accuracy: 0.9750\n",
            "Epoch 34/100\n",
            "25/25 [==============================] - 0s 4ms/step - loss: 0.0768 - accuracy: 0.9700 - val_loss: 0.0509 - val_accuracy: 0.9750\n",
            "Epoch 35/100\n",
            "25/25 [==============================] - 0s 4ms/step - loss: 0.0760 - accuracy: 0.9725 - val_loss: 0.0520 - val_accuracy: 0.9750\n",
            "Epoch 36/100\n",
            "25/25 [==============================] - 0s 4ms/step - loss: 0.0752 - accuracy: 0.9737 - val_loss: 0.0495 - val_accuracy: 0.9750\n",
            "Epoch 37/100\n",
            "25/25 [==============================] - 0s 4ms/step - loss: 0.0772 - accuracy: 0.9700 - val_loss: 0.0493 - val_accuracy: 0.9850\n",
            "Epoch 38/100\n",
            "25/25 [==============================] - 0s 4ms/step - loss: 0.0762 - accuracy: 0.9750 - val_loss: 0.0510 - val_accuracy: 0.9750\n",
            "Epoch 39/100\n",
            "25/25 [==============================] - 0s 4ms/step - loss: 0.0756 - accuracy: 0.9712 - val_loss: 0.0499 - val_accuracy: 0.9750\n",
            "Epoch 40/100\n",
            "25/25 [==============================] - 0s 3ms/step - loss: 0.0748 - accuracy: 0.9737 - val_loss: 0.0476 - val_accuracy: 0.9750\n",
            "Epoch 41/100\n",
            "25/25 [==============================] - 0s 4ms/step - loss: 0.0719 - accuracy: 0.9725 - val_loss: 0.0473 - val_accuracy: 0.9750\n",
            "Epoch 42/100\n",
            "25/25 [==============================] - 0s 4ms/step - loss: 0.0720 - accuracy: 0.9712 - val_loss: 0.0485 - val_accuracy: 0.9800\n",
            "Epoch 43/100\n",
            "25/25 [==============================] - 0s 4ms/step - loss: 0.0720 - accuracy: 0.9725 - val_loss: 0.0474 - val_accuracy: 0.9800\n",
            "Epoch 44/100\n",
            "25/25 [==============================] - 0s 4ms/step - loss: 0.0718 - accuracy: 0.9712 - val_loss: 0.0465 - val_accuracy: 0.9750\n",
            "Epoch 45/100\n",
            "25/25 [==============================] - 0s 4ms/step - loss: 0.0713 - accuracy: 0.9725 - val_loss: 0.0455 - val_accuracy: 0.9800\n",
            "Epoch 46/100\n",
            "25/25 [==============================] - 0s 4ms/step - loss: 0.0712 - accuracy: 0.9712 - val_loss: 0.0466 - val_accuracy: 0.9800\n",
            "Epoch 47/100\n",
            "25/25 [==============================] - 0s 4ms/step - loss: 0.0701 - accuracy: 0.9762 - val_loss: 0.0480 - val_accuracy: 0.9750\n",
            "Epoch 48/100\n",
            "25/25 [==============================] - 0s 4ms/step - loss: 0.0721 - accuracy: 0.9700 - val_loss: 0.0466 - val_accuracy: 0.9750\n",
            "Epoch 49/100\n",
            "25/25 [==============================] - 0s 3ms/step - loss: 0.0725 - accuracy: 0.9725 - val_loss: 0.0450 - val_accuracy: 0.9750\n",
            "Epoch 50/100\n",
            "25/25 [==============================] - 0s 4ms/step - loss: 0.0746 - accuracy: 0.9725 - val_loss: 0.0455 - val_accuracy: 0.9800\n",
            "Epoch 51/100\n",
            "25/25 [==============================] - 0s 3ms/step - loss: 0.0710 - accuracy: 0.9750 - val_loss: 0.0449 - val_accuracy: 0.9750\n",
            "Epoch 52/100\n",
            "25/25 [==============================] - 0s 4ms/step - loss: 0.0693 - accuracy: 0.9737 - val_loss: 0.0450 - val_accuracy: 0.9800\n",
            "Epoch 53/100\n",
            "25/25 [==============================] - 0s 3ms/step - loss: 0.0670 - accuracy: 0.9762 - val_loss: 0.0486 - val_accuracy: 0.9750\n",
            "Epoch 54/100\n",
            "25/25 [==============================] - 0s 3ms/step - loss: 0.0684 - accuracy: 0.9725 - val_loss: 0.0437 - val_accuracy: 0.9800\n",
            "Epoch 55/100\n",
            "25/25 [==============================] - 0s 5ms/step - loss: 0.0682 - accuracy: 0.9737 - val_loss: 0.0464 - val_accuracy: 0.9750\n",
            "Epoch 56/100\n",
            "25/25 [==============================] - 0s 4ms/step - loss: 0.0687 - accuracy: 0.9725 - val_loss: 0.0428 - val_accuracy: 0.9800\n",
            "Epoch 57/100\n",
            "25/25 [==============================] - 0s 4ms/step - loss: 0.0678 - accuracy: 0.9725 - val_loss: 0.0452 - val_accuracy: 0.9800\n",
            "Epoch 58/100\n",
            "25/25 [==============================] - 0s 4ms/step - loss: 0.0683 - accuracy: 0.9700 - val_loss: 0.0411 - val_accuracy: 0.9800\n",
            "Epoch 59/100\n",
            "25/25 [==============================] - 0s 4ms/step - loss: 0.0677 - accuracy: 0.9725 - val_loss: 0.0470 - val_accuracy: 0.9750\n",
            "Epoch 60/100\n",
            "25/25 [==============================] - 0s 4ms/step - loss: 0.0682 - accuracy: 0.9750 - val_loss: 0.0467 - val_accuracy: 0.9800\n",
            "Epoch 61/100\n",
            "25/25 [==============================] - 0s 4ms/step - loss: 0.0703 - accuracy: 0.9688 - val_loss: 0.0445 - val_accuracy: 0.9800\n",
            "Epoch 62/100\n",
            "25/25 [==============================] - 0s 4ms/step - loss: 0.0679 - accuracy: 0.9737 - val_loss: 0.0429 - val_accuracy: 0.9800\n",
            "Epoch 63/100\n",
            "25/25 [==============================] - 0s 4ms/step - loss: 0.0664 - accuracy: 0.9725 - val_loss: 0.0460 - val_accuracy: 0.9800\n",
            "Epoch 64/100\n",
            "25/25 [==============================] - 0s 4ms/step - loss: 0.0664 - accuracy: 0.9762 - val_loss: 0.0412 - val_accuracy: 0.9800\n",
            "Epoch 65/100\n",
            "25/25 [==============================] - 0s 4ms/step - loss: 0.0658 - accuracy: 0.9737 - val_loss: 0.0430 - val_accuracy: 0.9800\n",
            "Epoch 66/100\n",
            "25/25 [==============================] - 0s 4ms/step - loss: 0.0669 - accuracy: 0.9750 - val_loss: 0.0428 - val_accuracy: 0.9800\n",
            "Epoch 67/100\n",
            "25/25 [==============================] - 0s 3ms/step - loss: 0.0671 - accuracy: 0.9712 - val_loss: 0.0414 - val_accuracy: 0.9800\n",
            "Epoch 68/100\n",
            "25/25 [==============================] - 0s 3ms/step - loss: 0.0664 - accuracy: 0.9762 - val_loss: 0.0431 - val_accuracy: 0.9750\n",
            "Epoch 69/100\n",
            "25/25 [==============================] - 0s 4ms/step - loss: 0.0705 - accuracy: 0.9712 - val_loss: 0.0425 - val_accuracy: 0.9800\n",
            "Epoch 70/100\n",
            "25/25 [==============================] - 0s 4ms/step - loss: 0.0675 - accuracy: 0.9737 - val_loss: 0.0459 - val_accuracy: 0.9800\n",
            "Epoch 71/100\n",
            "25/25 [==============================] - 0s 4ms/step - loss: 0.0653 - accuracy: 0.9762 - val_loss: 0.0421 - val_accuracy: 0.9800\n",
            "Epoch 72/100\n",
            "25/25 [==============================] - 0s 4ms/step - loss: 0.0660 - accuracy: 0.9750 - val_loss: 0.0471 - val_accuracy: 0.9750\n",
            "Epoch 73/100\n",
            "25/25 [==============================] - 0s 4ms/step - loss: 0.0666 - accuracy: 0.9762 - val_loss: 0.0428 - val_accuracy: 0.9800\n",
            "Epoch 74/100\n",
            "25/25 [==============================] - 0s 4ms/step - loss: 0.0679 - accuracy: 0.9712 - val_loss: 0.0391 - val_accuracy: 0.9850\n",
            "Epoch 75/100\n",
            "25/25 [==============================] - 0s 4ms/step - loss: 0.0655 - accuracy: 0.9750 - val_loss: 0.0426 - val_accuracy: 0.9800\n",
            "Epoch 76/100\n",
            "25/25 [==============================] - 0s 4ms/step - loss: 0.0647 - accuracy: 0.9762 - val_loss: 0.0422 - val_accuracy: 0.9800\n",
            "Epoch 77/100\n",
            "25/25 [==============================] - 0s 4ms/step - loss: 0.0682 - accuracy: 0.9750 - val_loss: 0.0471 - val_accuracy: 0.9700\n",
            "Epoch 78/100\n",
            "25/25 [==============================] - 0s 4ms/step - loss: 0.0663 - accuracy: 0.9712 - val_loss: 0.0401 - val_accuracy: 0.9850\n",
            "Epoch 79/100\n",
            "25/25 [==============================] - 0s 4ms/step - loss: 0.0648 - accuracy: 0.9750 - val_loss: 0.0458 - val_accuracy: 0.9750\n",
            "Epoch 80/100\n",
            "25/25 [==============================] - 0s 4ms/step - loss: 0.0671 - accuracy: 0.9688 - val_loss: 0.0403 - val_accuracy: 0.9850\n",
            "Epoch 81/100\n",
            "25/25 [==============================] - 0s 4ms/step - loss: 0.0681 - accuracy: 0.9737 - val_loss: 0.0410 - val_accuracy: 0.9750\n",
            "Epoch 82/100\n",
            "25/25 [==============================] - 0s 4ms/step - loss: 0.0643 - accuracy: 0.9775 - val_loss: 0.0428 - val_accuracy: 0.9800\n",
            "Epoch 83/100\n",
            "25/25 [==============================] - 0s 4ms/step - loss: 0.0639 - accuracy: 0.9750 - val_loss: 0.0463 - val_accuracy: 0.9800\n",
            "Epoch 84/100\n",
            "25/25 [==============================] - 0s 3ms/step - loss: 0.0655 - accuracy: 0.9750 - val_loss: 0.0414 - val_accuracy: 0.9750\n",
            "Epoch 85/100\n",
            "25/25 [==============================] - 0s 4ms/step - loss: 0.0652 - accuracy: 0.9737 - val_loss: 0.0445 - val_accuracy: 0.9800\n",
            "Epoch 86/100\n",
            "25/25 [==============================] - 0s 4ms/step - loss: 0.0642 - accuracy: 0.9737 - val_loss: 0.0413 - val_accuracy: 0.9800\n",
            "Epoch 87/100\n",
            "25/25 [==============================] - 0s 4ms/step - loss: 0.0646 - accuracy: 0.9775 - val_loss: 0.0437 - val_accuracy: 0.9800\n",
            "Epoch 88/100\n",
            "25/25 [==============================] - 0s 4ms/step - loss: 0.0641 - accuracy: 0.9737 - val_loss: 0.0418 - val_accuracy: 0.9800\n",
            "Epoch 89/100\n",
            "25/25 [==============================] - 0s 4ms/step - loss: 0.0633 - accuracy: 0.9775 - val_loss: 0.0421 - val_accuracy: 0.9800\n",
            "Epoch 90/100\n",
            "25/25 [==============================] - 0s 3ms/step - loss: 0.0638 - accuracy: 0.9775 - val_loss: 0.0442 - val_accuracy: 0.9800\n",
            "Epoch 91/100\n",
            "25/25 [==============================] - 0s 4ms/step - loss: 0.0627 - accuracy: 0.9750 - val_loss: 0.0412 - val_accuracy: 0.9800\n",
            "Epoch 92/100\n",
            "25/25 [==============================] - 0s 3ms/step - loss: 0.0625 - accuracy: 0.9775 - val_loss: 0.0430 - val_accuracy: 0.9750\n",
            "Epoch 93/100\n",
            "25/25 [==============================] - 0s 4ms/step - loss: 0.0658 - accuracy: 0.9712 - val_loss: 0.0415 - val_accuracy: 0.9800\n",
            "Epoch 94/100\n",
            "25/25 [==============================] - 0s 4ms/step - loss: 0.0653 - accuracy: 0.9787 - val_loss: 0.0444 - val_accuracy: 0.9700\n",
            "Epoch 95/100\n",
            "25/25 [==============================] - 0s 3ms/step - loss: 0.0646 - accuracy: 0.9737 - val_loss: 0.0422 - val_accuracy: 0.9800\n",
            "Epoch 96/100\n",
            "25/25 [==============================] - 0s 4ms/step - loss: 0.0641 - accuracy: 0.9750 - val_loss: 0.0424 - val_accuracy: 0.9800\n",
            "Epoch 97/100\n",
            "25/25 [==============================] - 0s 3ms/step - loss: 0.0622 - accuracy: 0.9787 - val_loss: 0.0411 - val_accuracy: 0.9800\n",
            "Epoch 98/100\n",
            "25/25 [==============================] - 0s 4ms/step - loss: 0.0650 - accuracy: 0.9775 - val_loss: 0.0411 - val_accuracy: 0.9800\n",
            "Epoch 99/100\n",
            "25/25 [==============================] - 0s 4ms/step - loss: 0.0630 - accuracy: 0.9762 - val_loss: 0.0440 - val_accuracy: 0.9750\n",
            "Epoch 100/100\n",
            "25/25 [==============================] - 0s 4ms/step - loss: 0.0607 - accuracy: 0.9762 - val_loss: 0.0442 - val_accuracy: 0.9750\n"
          ]
        },
        {
          "output_type": "execute_result",
          "data": {
            "text/plain": [
              "<keras.src.callbacks.History at 0x7c74c825b580>"
            ]
          },
          "metadata": {},
          "execution_count": 20
        }
      ]
    },
    {
      "cell_type": "code",
      "source": [
        "#Evaluate the model\n",
        "test_loss, test_accuracy = model.evaluate(X_test_scaled,y_test)"
      ],
      "metadata": {
        "colab": {
          "base_uri": "https://localhost:8080/"
        },
        "id": "5Kpkix78ZvZ4",
        "outputId": "700a86d2-5b72-4062-8d20-36ad28b3ce36"
      },
      "execution_count": null,
      "outputs": [
        {
          "output_type": "stream",
          "name": "stdout",
          "text": [
            "7/7 [==============================] - 0s 4ms/step - loss: 0.0442 - accuracy: 0.9750\n"
          ]
        }
      ]
    },
    {
      "cell_type": "code",
      "source": [
        "test_loss"
      ],
      "metadata": {
        "colab": {
          "base_uri": "https://localhost:8080/"
        },
        "id": "tNI9waBRaLOL",
        "outputId": "a72b736d-afa2-4bea-8424-1e67a6717917"
      },
      "execution_count": null,
      "outputs": [
        {
          "output_type": "execute_result",
          "data": {
            "text/plain": [
              "0.04416564106941223"
            ]
          },
          "metadata": {},
          "execution_count": 22
        }
      ]
    },
    {
      "cell_type": "code",
      "source": [
        "print(f\"Test accuracy: {test_accuracy}\")"
      ],
      "metadata": {
        "colab": {
          "base_uri": "https://localhost:8080/"
        },
        "id": "UQTatV7UaN6L",
        "outputId": "a4894737-e1fd-41f9-bf27-b001ee10f9f1"
      },
      "execution_count": null,
      "outputs": [
        {
          "output_type": "stream",
          "name": "stdout",
          "text": [
            "Test accuracy: 0.9750000238418579\n"
          ]
        }
      ]
    },
    {
      "cell_type": "markdown",
      "source": [
        "#MODEL:2"
      ],
      "metadata": {
        "id": "Bnn-vyOqaolW"
      }
    },
    {
      "cell_type": "code",
      "source": [
        "#set random seed\n",
        "tf.random.set_seed(42)"
      ],
      "metadata": {
        "id": "M7nuNWSvaUxS"
      },
      "execution_count": null,
      "outputs": []
    },
    {
      "cell_type": "code",
      "source": [
        "#build the model\n",
        "model_2 = tf.keras.Sequential([\n",
        "    tf.keras.layers.Dense(128,activation='relu',input_shape=(2,)),\n",
        "    tf.keras.layers.Dense(128,activation='relu'),\n",
        "    tf.keras.layers.Dense(1,activation='sigmoid')#output layer\n",
        "])"
      ],
      "metadata": {
        "id": "T2fhshtkavu5"
      },
      "execution_count": null,
      "outputs": []
    },
    {
      "cell_type": "code",
      "source": [
        "#compile the model\n",
        "model_2.compile(loss=tf.keras.losses.BinaryCrossentropy(),\n",
        "                optimizer=tf.keras.optimizers.Adam(),\n",
        "                metrics=['accuracy'])"
      ],
      "metadata": {
        "id": "h3wTd8uBbZl-"
      },
      "execution_count": null,
      "outputs": []
    },
    {
      "cell_type": "code",
      "source": [
        "history2=model_2.fit(X_train_scaled,y_train,epochs=200,batch_size=16,validation_data=(X_test_scaled,y_test))"
      ],
      "metadata": {
        "colab": {
          "base_uri": "https://localhost:8080/"
        },
        "id": "XkJjAeTqb3Tt",
        "outputId": "66769938-07c5-4c27-9184-39b962d3399d"
      },
      "execution_count": null,
      "outputs": [
        {
          "output_type": "stream",
          "name": "stdout",
          "text": [
            "Epoch 1/200\n",
            "50/50 [==============================] - 2s 18ms/step - loss: 0.4029 - accuracy: 0.8462 - val_loss: 0.2895 - val_accuracy: 0.8650\n",
            "Epoch 2/200\n",
            "50/50 [==============================] - 0s 3ms/step - loss: 0.2756 - accuracy: 0.8712 - val_loss: 0.2652 - val_accuracy: 0.8800\n",
            "Epoch 3/200\n",
            "50/50 [==============================] - 0s 3ms/step - loss: 0.2542 - accuracy: 0.8800 - val_loss: 0.2347 - val_accuracy: 0.8900\n",
            "Epoch 4/200\n",
            "50/50 [==============================] - 0s 3ms/step - loss: 0.2244 - accuracy: 0.9038 - val_loss: 0.2029 - val_accuracy: 0.8950\n",
            "Epoch 5/200\n",
            "50/50 [==============================] - 0s 4ms/step - loss: 0.1963 - accuracy: 0.9162 - val_loss: 0.1594 - val_accuracy: 0.9450\n",
            "Epoch 6/200\n",
            "50/50 [==============================] - 0s 3ms/step - loss: 0.1616 - accuracy: 0.9362 - val_loss: 0.1287 - val_accuracy: 0.9500\n",
            "Epoch 7/200\n",
            "50/50 [==============================] - 0s 4ms/step - loss: 0.1349 - accuracy: 0.9525 - val_loss: 0.1028 - val_accuracy: 0.9750\n",
            "Epoch 8/200\n",
            "50/50 [==============================] - 0s 3ms/step - loss: 0.1156 - accuracy: 0.9638 - val_loss: 0.0835 - val_accuracy: 0.9750\n",
            "Epoch 9/200\n",
            "50/50 [==============================] - 0s 3ms/step - loss: 0.1012 - accuracy: 0.9675 - val_loss: 0.0706 - val_accuracy: 0.9800\n",
            "Epoch 10/200\n",
            "50/50 [==============================] - 0s 6ms/step - loss: 0.0957 - accuracy: 0.9675 - val_loss: 0.0706 - val_accuracy: 0.9700\n",
            "Epoch 11/200\n",
            "50/50 [==============================] - 0s 5ms/step - loss: 0.0906 - accuracy: 0.9675 - val_loss: 0.0612 - val_accuracy: 0.9800\n",
            "Epoch 12/200\n",
            "50/50 [==============================] - 0s 5ms/step - loss: 0.0827 - accuracy: 0.9712 - val_loss: 0.0605 - val_accuracy: 0.9750\n",
            "Epoch 13/200\n",
            "50/50 [==============================] - 0s 5ms/step - loss: 0.0839 - accuracy: 0.9638 - val_loss: 0.0625 - val_accuracy: 0.9650\n",
            "Epoch 14/200\n",
            "50/50 [==============================] - 0s 6ms/step - loss: 0.0784 - accuracy: 0.9712 - val_loss: 0.0538 - val_accuracy: 0.9850\n",
            "Epoch 15/200\n",
            "50/50 [==============================] - 0s 5ms/step - loss: 0.0776 - accuracy: 0.9700 - val_loss: 0.0536 - val_accuracy: 0.9800\n",
            "Epoch 16/200\n",
            "50/50 [==============================] - 0s 5ms/step - loss: 0.0795 - accuracy: 0.9663 - val_loss: 0.0513 - val_accuracy: 0.9850\n",
            "Epoch 17/200\n",
            "50/50 [==============================] - 0s 6ms/step - loss: 0.0778 - accuracy: 0.9675 - val_loss: 0.0455 - val_accuracy: 0.9850\n",
            "Epoch 18/200\n",
            "50/50 [==============================] - 0s 4ms/step - loss: 0.0782 - accuracy: 0.9700 - val_loss: 0.0510 - val_accuracy: 0.9800\n",
            "Epoch 19/200\n",
            "50/50 [==============================] - 0s 4ms/step - loss: 0.0797 - accuracy: 0.9675 - val_loss: 0.0463 - val_accuracy: 0.9900\n",
            "Epoch 20/200\n",
            "50/50 [==============================] - 0s 4ms/step - loss: 0.0733 - accuracy: 0.9750 - val_loss: 0.0570 - val_accuracy: 0.9650\n",
            "Epoch 21/200\n",
            "50/50 [==============================] - 0s 3ms/step - loss: 0.0730 - accuracy: 0.9688 - val_loss: 0.0470 - val_accuracy: 0.9800\n",
            "Epoch 22/200\n",
            "50/50 [==============================] - 0s 3ms/step - loss: 0.0727 - accuracy: 0.9725 - val_loss: 0.0543 - val_accuracy: 0.9700\n",
            "Epoch 23/200\n",
            "50/50 [==============================] - 0s 3ms/step - loss: 0.0727 - accuracy: 0.9712 - val_loss: 0.0689 - val_accuracy: 0.9600\n",
            "Epoch 24/200\n",
            "50/50 [==============================] - 0s 3ms/step - loss: 0.0686 - accuracy: 0.9750 - val_loss: 0.0457 - val_accuracy: 0.9750\n",
            "Epoch 25/200\n",
            "50/50 [==============================] - 0s 4ms/step - loss: 0.0722 - accuracy: 0.9737 - val_loss: 0.0405 - val_accuracy: 0.9850\n",
            "Epoch 26/200\n",
            "50/50 [==============================] - 0s 3ms/step - loss: 0.0687 - accuracy: 0.9712 - val_loss: 0.0640 - val_accuracy: 0.9650\n",
            "Epoch 27/200\n",
            "50/50 [==============================] - 0s 3ms/step - loss: 0.0744 - accuracy: 0.9700 - val_loss: 0.0679 - val_accuracy: 0.9650\n",
            "Epoch 28/200\n",
            "50/50 [==============================] - 0s 3ms/step - loss: 0.0704 - accuracy: 0.9750 - val_loss: 0.0441 - val_accuracy: 0.9900\n",
            "Epoch 29/200\n",
            "50/50 [==============================] - 0s 3ms/step - loss: 0.0659 - accuracy: 0.9725 - val_loss: 0.0623 - val_accuracy: 0.9600\n",
            "Epoch 30/200\n",
            "50/50 [==============================] - 0s 3ms/step - loss: 0.0668 - accuracy: 0.9750 - val_loss: 0.0409 - val_accuracy: 0.9800\n",
            "Epoch 31/200\n",
            "50/50 [==============================] - 0s 4ms/step - loss: 0.0676 - accuracy: 0.9762 - val_loss: 0.0597 - val_accuracy: 0.9650\n",
            "Epoch 32/200\n",
            "50/50 [==============================] - 0s 3ms/step - loss: 0.0688 - accuracy: 0.9737 - val_loss: 0.0496 - val_accuracy: 0.9650\n",
            "Epoch 33/200\n",
            "50/50 [==============================] - 0s 3ms/step - loss: 0.0696 - accuracy: 0.9737 - val_loss: 0.0480 - val_accuracy: 0.9800\n",
            "Epoch 34/200\n",
            "50/50 [==============================] - 0s 3ms/step - loss: 0.0650 - accuracy: 0.9762 - val_loss: 0.0368 - val_accuracy: 0.9850\n",
            "Epoch 35/200\n",
            "50/50 [==============================] - 0s 5ms/step - loss: 0.0673 - accuracy: 0.9762 - val_loss: 0.0455 - val_accuracy: 0.9750\n",
            "Epoch 36/200\n",
            "50/50 [==============================] - 0s 4ms/step - loss: 0.0652 - accuracy: 0.9737 - val_loss: 0.0412 - val_accuracy: 0.9850\n",
            "Epoch 37/200\n",
            "50/50 [==============================] - 0s 3ms/step - loss: 0.0720 - accuracy: 0.9712 - val_loss: 0.0443 - val_accuracy: 0.9850\n",
            "Epoch 38/200\n",
            "50/50 [==============================] - 0s 4ms/step - loss: 0.0720 - accuracy: 0.9663 - val_loss: 0.0451 - val_accuracy: 0.9750\n",
            "Epoch 39/200\n",
            "50/50 [==============================] - 0s 3ms/step - loss: 0.0654 - accuracy: 0.9775 - val_loss: 0.0528 - val_accuracy: 0.9650\n",
            "Epoch 40/200\n",
            "50/50 [==============================] - 0s 3ms/step - loss: 0.0731 - accuracy: 0.9725 - val_loss: 0.0373 - val_accuracy: 0.9800\n",
            "Epoch 41/200\n",
            "50/50 [==============================] - 0s 3ms/step - loss: 0.0640 - accuracy: 0.9737 - val_loss: 0.0470 - val_accuracy: 0.9700\n",
            "Epoch 42/200\n",
            "50/50 [==============================] - 0s 3ms/step - loss: 0.0684 - accuracy: 0.9725 - val_loss: 0.0526 - val_accuracy: 0.9700\n",
            "Epoch 43/200\n",
            "50/50 [==============================] - 0s 3ms/step - loss: 0.0649 - accuracy: 0.9762 - val_loss: 0.0411 - val_accuracy: 0.9850\n",
            "Epoch 44/200\n",
            "50/50 [==============================] - 0s 4ms/step - loss: 0.0673 - accuracy: 0.9750 - val_loss: 0.0402 - val_accuracy: 0.9850\n",
            "Epoch 45/200\n",
            "50/50 [==============================] - 0s 3ms/step - loss: 0.0709 - accuracy: 0.9712 - val_loss: 0.0424 - val_accuracy: 0.9800\n",
            "Epoch 46/200\n",
            "50/50 [==============================] - 0s 3ms/step - loss: 0.0647 - accuracy: 0.9712 - val_loss: 0.0535 - val_accuracy: 0.9700\n",
            "Epoch 47/200\n",
            "50/50 [==============================] - 0s 3ms/step - loss: 0.0633 - accuracy: 0.9750 - val_loss: 0.0456 - val_accuracy: 0.9750\n",
            "Epoch 48/200\n",
            "50/50 [==============================] - 0s 3ms/step - loss: 0.0689 - accuracy: 0.9700 - val_loss: 0.0373 - val_accuracy: 0.9800\n",
            "Epoch 49/200\n",
            "50/50 [==============================] - 0s 3ms/step - loss: 0.0622 - accuracy: 0.9775 - val_loss: 0.0701 - val_accuracy: 0.9700\n",
            "Epoch 50/200\n",
            "50/50 [==============================] - 0s 4ms/step - loss: 0.0651 - accuracy: 0.9775 - val_loss: 0.0424 - val_accuracy: 0.9800\n",
            "Epoch 51/200\n",
            "50/50 [==============================] - 0s 3ms/step - loss: 0.0637 - accuracy: 0.9750 - val_loss: 0.0402 - val_accuracy: 0.9850\n",
            "Epoch 52/200\n",
            "50/50 [==============================] - 0s 3ms/step - loss: 0.0648 - accuracy: 0.9775 - val_loss: 0.0462 - val_accuracy: 0.9700\n",
            "Epoch 53/200\n",
            "50/50 [==============================] - 0s 4ms/step - loss: 0.0611 - accuracy: 0.9762 - val_loss: 0.0471 - val_accuracy: 0.9650\n",
            "Epoch 54/200\n",
            "50/50 [==============================] - 0s 4ms/step - loss: 0.0603 - accuracy: 0.9762 - val_loss: 0.0424 - val_accuracy: 0.9850\n",
            "Epoch 55/200\n",
            "50/50 [==============================] - 0s 4ms/step - loss: 0.0630 - accuracy: 0.9737 - val_loss: 0.0444 - val_accuracy: 0.9750\n",
            "Epoch 56/200\n",
            "50/50 [==============================] - 0s 3ms/step - loss: 0.0646 - accuracy: 0.9762 - val_loss: 0.0468 - val_accuracy: 0.9700\n",
            "Epoch 57/200\n",
            "50/50 [==============================] - 0s 4ms/step - loss: 0.0649 - accuracy: 0.9787 - val_loss: 0.0464 - val_accuracy: 0.9650\n",
            "Epoch 58/200\n",
            "50/50 [==============================] - 0s 4ms/step - loss: 0.0655 - accuracy: 0.9750 - val_loss: 0.0383 - val_accuracy: 0.9850\n",
            "Epoch 59/200\n",
            "50/50 [==============================] - 0s 3ms/step - loss: 0.0604 - accuracy: 0.9762 - val_loss: 0.0460 - val_accuracy: 0.9700\n",
            "Epoch 60/200\n",
            "50/50 [==============================] - 0s 3ms/step - loss: 0.0628 - accuracy: 0.9737 - val_loss: 0.0448 - val_accuracy: 0.9650\n",
            "Epoch 61/200\n",
            "50/50 [==============================] - 0s 3ms/step - loss: 0.0699 - accuracy: 0.9700 - val_loss: 0.0550 - val_accuracy: 0.9700\n",
            "Epoch 62/200\n",
            "50/50 [==============================] - 0s 3ms/step - loss: 0.0649 - accuracy: 0.9737 - val_loss: 0.0380 - val_accuracy: 0.9850\n",
            "Epoch 63/200\n",
            "50/50 [==============================] - 0s 3ms/step - loss: 0.0608 - accuracy: 0.9725 - val_loss: 0.0415 - val_accuracy: 0.9800\n",
            "Epoch 64/200\n",
            "50/50 [==============================] - 0s 3ms/step - loss: 0.0615 - accuracy: 0.9737 - val_loss: 0.0359 - val_accuracy: 0.9800\n",
            "Epoch 65/200\n",
            "50/50 [==============================] - 0s 4ms/step - loss: 0.0628 - accuracy: 0.9750 - val_loss: 0.0369 - val_accuracy: 0.9850\n",
            "Epoch 66/200\n",
            "50/50 [==============================] - 0s 3ms/step - loss: 0.0643 - accuracy: 0.9762 - val_loss: 0.0378 - val_accuracy: 0.9800\n",
            "Epoch 67/200\n",
            "50/50 [==============================] - 0s 3ms/step - loss: 0.0674 - accuracy: 0.9750 - val_loss: 0.0371 - val_accuracy: 0.9850\n",
            "Epoch 68/200\n",
            "50/50 [==============================] - 0s 3ms/step - loss: 0.0620 - accuracy: 0.9737 - val_loss: 0.0380 - val_accuracy: 0.9800\n",
            "Epoch 69/200\n",
            "50/50 [==============================] - 0s 4ms/step - loss: 0.0606 - accuracy: 0.9762 - val_loss: 0.0628 - val_accuracy: 0.9700\n",
            "Epoch 70/200\n",
            "50/50 [==============================] - 0s 3ms/step - loss: 0.0716 - accuracy: 0.9737 - val_loss: 0.0453 - val_accuracy: 0.9700\n",
            "Epoch 71/200\n",
            "50/50 [==============================] - 0s 3ms/step - loss: 0.0640 - accuracy: 0.9725 - val_loss: 0.0499 - val_accuracy: 0.9650\n",
            "Epoch 72/200\n",
            "50/50 [==============================] - 0s 3ms/step - loss: 0.0652 - accuracy: 0.9725 - val_loss: 0.0471 - val_accuracy: 0.9700\n",
            "Epoch 73/200\n",
            "50/50 [==============================] - 0s 5ms/step - loss: 0.0623 - accuracy: 0.9800 - val_loss: 0.0613 - val_accuracy: 0.9700\n",
            "Epoch 74/200\n",
            "50/50 [==============================] - 0s 5ms/step - loss: 0.0632 - accuracy: 0.9712 - val_loss: 0.0414 - val_accuracy: 0.9850\n",
            "Epoch 75/200\n",
            "50/50 [==============================] - 0s 6ms/step - loss: 0.0653 - accuracy: 0.9725 - val_loss: 0.0452 - val_accuracy: 0.9700\n",
            "Epoch 76/200\n",
            "50/50 [==============================] - 0s 5ms/step - loss: 0.0597 - accuracy: 0.9762 - val_loss: 0.0375 - val_accuracy: 0.9850\n",
            "Epoch 77/200\n",
            "50/50 [==============================] - 0s 5ms/step - loss: 0.0665 - accuracy: 0.9712 - val_loss: 0.0505 - val_accuracy: 0.9650\n",
            "Epoch 78/200\n",
            "50/50 [==============================] - 0s 5ms/step - loss: 0.0678 - accuracy: 0.9688 - val_loss: 0.0438 - val_accuracy: 0.9800\n",
            "Epoch 79/200\n",
            "50/50 [==============================] - 0s 6ms/step - loss: 0.0623 - accuracy: 0.9762 - val_loss: 0.0506 - val_accuracy: 0.9650\n",
            "Epoch 80/200\n",
            "50/50 [==============================] - 0s 5ms/step - loss: 0.0607 - accuracy: 0.9688 - val_loss: 0.0395 - val_accuracy: 0.9850\n",
            "Epoch 81/200\n",
            "50/50 [==============================] - 0s 4ms/step - loss: 0.0684 - accuracy: 0.9737 - val_loss: 0.0375 - val_accuracy: 0.9850\n",
            "Epoch 82/200\n",
            "50/50 [==============================] - 0s 3ms/step - loss: 0.0653 - accuracy: 0.9725 - val_loss: 0.0530 - val_accuracy: 0.9700\n",
            "Epoch 83/200\n",
            "50/50 [==============================] - 0s 3ms/step - loss: 0.0640 - accuracy: 0.9700 - val_loss: 0.0435 - val_accuracy: 0.9800\n",
            "Epoch 84/200\n",
            "50/50 [==============================] - 0s 4ms/step - loss: 0.0615 - accuracy: 0.9750 - val_loss: 0.0465 - val_accuracy: 0.9800\n",
            "Epoch 85/200\n",
            "50/50 [==============================] - 0s 4ms/step - loss: 0.0687 - accuracy: 0.9700 - val_loss: 0.0524 - val_accuracy: 0.9700\n",
            "Epoch 86/200\n",
            "50/50 [==============================] - 0s 3ms/step - loss: 0.0583 - accuracy: 0.9762 - val_loss: 0.0420 - val_accuracy: 0.9800\n",
            "Epoch 87/200\n",
            "50/50 [==============================] - 0s 3ms/step - loss: 0.0642 - accuracy: 0.9737 - val_loss: 0.0387 - val_accuracy: 0.9850\n",
            "Epoch 88/200\n",
            "50/50 [==============================] - 0s 3ms/step - loss: 0.0635 - accuracy: 0.9725 - val_loss: 0.0368 - val_accuracy: 0.9850\n",
            "Epoch 89/200\n",
            "50/50 [==============================] - 0s 3ms/step - loss: 0.0618 - accuracy: 0.9750 - val_loss: 0.0526 - val_accuracy: 0.9700\n",
            "Epoch 90/200\n",
            "50/50 [==============================] - 0s 3ms/step - loss: 0.0634 - accuracy: 0.9737 - val_loss: 0.0443 - val_accuracy: 0.9800\n",
            "Epoch 91/200\n",
            "50/50 [==============================] - 0s 3ms/step - loss: 0.0622 - accuracy: 0.9700 - val_loss: 0.0428 - val_accuracy: 0.9800\n",
            "Epoch 92/200\n",
            "50/50 [==============================] - 0s 4ms/step - loss: 0.0612 - accuracy: 0.9712 - val_loss: 0.0475 - val_accuracy: 0.9700\n",
            "Epoch 93/200\n",
            "50/50 [==============================] - 0s 4ms/step - loss: 0.0670 - accuracy: 0.9712 - val_loss: 0.0450 - val_accuracy: 0.9800\n",
            "Epoch 94/200\n",
            "50/50 [==============================] - 0s 3ms/step - loss: 0.0606 - accuracy: 0.9737 - val_loss: 0.0562 - val_accuracy: 0.9650\n",
            "Epoch 95/200\n",
            "50/50 [==============================] - 0s 4ms/step - loss: 0.0663 - accuracy: 0.9712 - val_loss: 0.0499 - val_accuracy: 0.9700\n",
            "Epoch 96/200\n",
            "50/50 [==============================] - 0s 4ms/step - loss: 0.0637 - accuracy: 0.9750 - val_loss: 0.0365 - val_accuracy: 0.9850\n",
            "Epoch 97/200\n",
            "50/50 [==============================] - 0s 3ms/step - loss: 0.0668 - accuracy: 0.9762 - val_loss: 0.0484 - val_accuracy: 0.9700\n",
            "Epoch 98/200\n",
            "50/50 [==============================] - 0s 4ms/step - loss: 0.0636 - accuracy: 0.9750 - val_loss: 0.0379 - val_accuracy: 0.9800\n",
            "Epoch 99/200\n",
            "50/50 [==============================] - 0s 3ms/step - loss: 0.0602 - accuracy: 0.9725 - val_loss: 0.0441 - val_accuracy: 0.9800\n",
            "Epoch 100/200\n",
            "50/50 [==============================] - 0s 3ms/step - loss: 0.0593 - accuracy: 0.9737 - val_loss: 0.0393 - val_accuracy: 0.9850\n",
            "Epoch 101/200\n",
            "50/50 [==============================] - 0s 3ms/step - loss: 0.0642 - accuracy: 0.9775 - val_loss: 0.0511 - val_accuracy: 0.9700\n",
            "Epoch 102/200\n",
            "50/50 [==============================] - 0s 3ms/step - loss: 0.0605 - accuracy: 0.9750 - val_loss: 0.0413 - val_accuracy: 0.9850\n",
            "Epoch 103/200\n",
            "50/50 [==============================] - 0s 3ms/step - loss: 0.0642 - accuracy: 0.9688 - val_loss: 0.0401 - val_accuracy: 0.9850\n",
            "Epoch 104/200\n",
            "50/50 [==============================] - 0s 3ms/step - loss: 0.0624 - accuracy: 0.9762 - val_loss: 0.0465 - val_accuracy: 0.9700\n",
            "Epoch 105/200\n",
            "50/50 [==============================] - 0s 3ms/step - loss: 0.0602 - accuracy: 0.9762 - val_loss: 0.0427 - val_accuracy: 0.9850\n",
            "Epoch 106/200\n",
            "50/50 [==============================] - 0s 4ms/step - loss: 0.0594 - accuracy: 0.9775 - val_loss: 0.0465 - val_accuracy: 0.9700\n",
            "Epoch 107/200\n",
            "50/50 [==============================] - 0s 4ms/step - loss: 0.0587 - accuracy: 0.9762 - val_loss: 0.0400 - val_accuracy: 0.9850\n",
            "Epoch 108/200\n",
            "50/50 [==============================] - 0s 3ms/step - loss: 0.0711 - accuracy: 0.9663 - val_loss: 0.0380 - val_accuracy: 0.9800\n",
            "Epoch 109/200\n",
            "50/50 [==============================] - 0s 3ms/step - loss: 0.0692 - accuracy: 0.9750 - val_loss: 0.0387 - val_accuracy: 0.9850\n",
            "Epoch 110/200\n",
            "50/50 [==============================] - 0s 4ms/step - loss: 0.0597 - accuracy: 0.9725 - val_loss: 0.0546 - val_accuracy: 0.9700\n",
            "Epoch 111/200\n",
            "50/50 [==============================] - 0s 4ms/step - loss: 0.0601 - accuracy: 0.9725 - val_loss: 0.0402 - val_accuracy: 0.9850\n",
            "Epoch 112/200\n",
            "50/50 [==============================] - 0s 3ms/step - loss: 0.0623 - accuracy: 0.9750 - val_loss: 0.0389 - val_accuracy: 0.9850\n",
            "Epoch 113/200\n",
            "50/50 [==============================] - 0s 3ms/step - loss: 0.0650 - accuracy: 0.9737 - val_loss: 0.0434 - val_accuracy: 0.9800\n",
            "Epoch 114/200\n",
            "50/50 [==============================] - 0s 4ms/step - loss: 0.0579 - accuracy: 0.9775 - val_loss: 0.0395 - val_accuracy: 0.9850\n",
            "Epoch 115/200\n",
            "50/50 [==============================] - 0s 3ms/step - loss: 0.0595 - accuracy: 0.9750 - val_loss: 0.0496 - val_accuracy: 0.9700\n",
            "Epoch 116/200\n",
            "50/50 [==============================] - 0s 3ms/step - loss: 0.0599 - accuracy: 0.9762 - val_loss: 0.0447 - val_accuracy: 0.9750\n",
            "Epoch 117/200\n",
            "50/50 [==============================] - 0s 3ms/step - loss: 0.0581 - accuracy: 0.9725 - val_loss: 0.0474 - val_accuracy: 0.9750\n",
            "Epoch 118/200\n",
            "50/50 [==============================] - 0s 4ms/step - loss: 0.0672 - accuracy: 0.9712 - val_loss: 0.0422 - val_accuracy: 0.9750\n",
            "Epoch 119/200\n",
            "50/50 [==============================] - 0s 3ms/step - loss: 0.0587 - accuracy: 0.9775 - val_loss: 0.0374 - val_accuracy: 0.9850\n",
            "Epoch 120/200\n",
            "50/50 [==============================] - 0s 3ms/step - loss: 0.0660 - accuracy: 0.9737 - val_loss: 0.0498 - val_accuracy: 0.9700\n",
            "Epoch 121/200\n",
            "50/50 [==============================] - 0s 3ms/step - loss: 0.0603 - accuracy: 0.9775 - val_loss: 0.0398 - val_accuracy: 0.9850\n",
            "Epoch 122/200\n",
            "50/50 [==============================] - 0s 3ms/step - loss: 0.0592 - accuracy: 0.9762 - val_loss: 0.0490 - val_accuracy: 0.9700\n",
            "Epoch 123/200\n",
            "50/50 [==============================] - 0s 3ms/step - loss: 0.0597 - accuracy: 0.9750 - val_loss: 0.0461 - val_accuracy: 0.9750\n",
            "Epoch 124/200\n",
            "50/50 [==============================] - 0s 3ms/step - loss: 0.0604 - accuracy: 0.9750 - val_loss: 0.0388 - val_accuracy: 0.9850\n",
            "Epoch 125/200\n",
            "50/50 [==============================] - 0s 3ms/step - loss: 0.0581 - accuracy: 0.9775 - val_loss: 0.0424 - val_accuracy: 0.9800\n",
            "Epoch 126/200\n",
            "50/50 [==============================] - 0s 3ms/step - loss: 0.0592 - accuracy: 0.9775 - val_loss: 0.0459 - val_accuracy: 0.9700\n",
            "Epoch 127/200\n",
            "50/50 [==============================] - 0s 3ms/step - loss: 0.0614 - accuracy: 0.9737 - val_loss: 0.0458 - val_accuracy: 0.9700\n",
            "Epoch 128/200\n",
            "50/50 [==============================] - 0s 3ms/step - loss: 0.0669 - accuracy: 0.9688 - val_loss: 0.0435 - val_accuracy: 0.9800\n",
            "Epoch 129/200\n",
            "50/50 [==============================] - 0s 3ms/step - loss: 0.0624 - accuracy: 0.9775 - val_loss: 0.0463 - val_accuracy: 0.9750\n",
            "Epoch 130/200\n",
            "50/50 [==============================] - 0s 4ms/step - loss: 0.0619 - accuracy: 0.9750 - val_loss: 0.0447 - val_accuracy: 0.9800\n",
            "Epoch 131/200\n",
            "50/50 [==============================] - 0s 3ms/step - loss: 0.0629 - accuracy: 0.9737 - val_loss: 0.0481 - val_accuracy: 0.9700\n",
            "Epoch 132/200\n",
            "50/50 [==============================] - 0s 4ms/step - loss: 0.0598 - accuracy: 0.9812 - val_loss: 0.0516 - val_accuracy: 0.9650\n",
            "Epoch 133/200\n",
            "50/50 [==============================] - 0s 3ms/step - loss: 0.0633 - accuracy: 0.9737 - val_loss: 0.0356 - val_accuracy: 0.9850\n",
            "Epoch 134/200\n",
            "50/50 [==============================] - 0s 3ms/step - loss: 0.0586 - accuracy: 0.9737 - val_loss: 0.0408 - val_accuracy: 0.9850\n",
            "Epoch 135/200\n",
            "50/50 [==============================] - 0s 3ms/step - loss: 0.0585 - accuracy: 0.9762 - val_loss: 0.0528 - val_accuracy: 0.9700\n",
            "Epoch 136/200\n",
            "50/50 [==============================] - 0s 5ms/step - loss: 0.0595 - accuracy: 0.9775 - val_loss: 0.0480 - val_accuracy: 0.9700\n",
            "Epoch 137/200\n",
            "50/50 [==============================] - 0s 6ms/step - loss: 0.0623 - accuracy: 0.9825 - val_loss: 0.0663 - val_accuracy: 0.9700\n",
            "Epoch 138/200\n",
            "50/50 [==============================] - 0s 5ms/step - loss: 0.0642 - accuracy: 0.9737 - val_loss: 0.0601 - val_accuracy: 0.9700\n",
            "Epoch 139/200\n",
            "50/50 [==============================] - 0s 5ms/step - loss: 0.0632 - accuracy: 0.9762 - val_loss: 0.0447 - val_accuracy: 0.9800\n",
            "Epoch 140/200\n",
            "50/50 [==============================] - 0s 5ms/step - loss: 0.0617 - accuracy: 0.9750 - val_loss: 0.0692 - val_accuracy: 0.9700\n",
            "Epoch 141/200\n",
            "50/50 [==============================] - 0s 4ms/step - loss: 0.0585 - accuracy: 0.9750 - val_loss: 0.0405 - val_accuracy: 0.9850\n",
            "Epoch 142/200\n",
            "50/50 [==============================] - 0s 5ms/step - loss: 0.0610 - accuracy: 0.9812 - val_loss: 0.0583 - val_accuracy: 0.9700\n",
            "Epoch 143/200\n",
            "50/50 [==============================] - 0s 5ms/step - loss: 0.0605 - accuracy: 0.9762 - val_loss: 0.0524 - val_accuracy: 0.9700\n",
            "Epoch 144/200\n",
            "50/50 [==============================] - 0s 6ms/step - loss: 0.0609 - accuracy: 0.9787 - val_loss: 0.0589 - val_accuracy: 0.9700\n",
            "Epoch 145/200\n",
            "50/50 [==============================] - 0s 5ms/step - loss: 0.0577 - accuracy: 0.9762 - val_loss: 0.0400 - val_accuracy: 0.9850\n",
            "Epoch 146/200\n",
            "50/50 [==============================] - 0s 3ms/step - loss: 0.0629 - accuracy: 0.9787 - val_loss: 0.0522 - val_accuracy: 0.9750\n",
            "Epoch 147/200\n",
            "50/50 [==============================] - 0s 3ms/step - loss: 0.0581 - accuracy: 0.9750 - val_loss: 0.0418 - val_accuracy: 0.9800\n",
            "Epoch 148/200\n",
            "50/50 [==============================] - 0s 3ms/step - loss: 0.0599 - accuracy: 0.9750 - val_loss: 0.0433 - val_accuracy: 0.9800\n",
            "Epoch 149/200\n",
            "50/50 [==============================] - 0s 4ms/step - loss: 0.0578 - accuracy: 0.9762 - val_loss: 0.0419 - val_accuracy: 0.9800\n",
            "Epoch 150/200\n",
            "50/50 [==============================] - 0s 3ms/step - loss: 0.0626 - accuracy: 0.9737 - val_loss: 0.0356 - val_accuracy: 0.9850\n",
            "Epoch 151/200\n",
            "50/50 [==============================] - 0s 3ms/step - loss: 0.0670 - accuracy: 0.9775 - val_loss: 0.0409 - val_accuracy: 0.9800\n",
            "Epoch 152/200\n",
            "50/50 [==============================] - 0s 3ms/step - loss: 0.0573 - accuracy: 0.9775 - val_loss: 0.0554 - val_accuracy: 0.9650\n",
            "Epoch 153/200\n",
            "50/50 [==============================] - 0s 3ms/step - loss: 0.0569 - accuracy: 0.9762 - val_loss: 0.0475 - val_accuracy: 0.9750\n",
            "Epoch 154/200\n",
            "50/50 [==============================] - 0s 3ms/step - loss: 0.0581 - accuracy: 0.9787 - val_loss: 0.0470 - val_accuracy: 0.9750\n",
            "Epoch 155/200\n",
            "50/50 [==============================] - 0s 3ms/step - loss: 0.0600 - accuracy: 0.9737 - val_loss: 0.0410 - val_accuracy: 0.9800\n",
            "Epoch 156/200\n",
            "50/50 [==============================] - 0s 4ms/step - loss: 0.0566 - accuracy: 0.9775 - val_loss: 0.0448 - val_accuracy: 0.9750\n",
            "Epoch 157/200\n",
            "50/50 [==============================] - 0s 3ms/step - loss: 0.0606 - accuracy: 0.9775 - val_loss: 0.0509 - val_accuracy: 0.9750\n",
            "Epoch 158/200\n",
            "50/50 [==============================] - 0s 4ms/step - loss: 0.0613 - accuracy: 0.9775 - val_loss: 0.0590 - val_accuracy: 0.9700\n",
            "Epoch 159/200\n",
            "50/50 [==============================] - 0s 3ms/step - loss: 0.0572 - accuracy: 0.9787 - val_loss: 0.0440 - val_accuracy: 0.9750\n",
            "Epoch 160/200\n",
            "50/50 [==============================] - 0s 3ms/step - loss: 0.0587 - accuracy: 0.9737 - val_loss: 0.0467 - val_accuracy: 0.9750\n",
            "Epoch 161/200\n",
            "50/50 [==============================] - 0s 8ms/step - loss: 0.0556 - accuracy: 0.9787 - val_loss: 0.0635 - val_accuracy: 0.9650\n",
            "Epoch 162/200\n",
            "50/50 [==============================] - 1s 11ms/step - loss: 0.0590 - accuracy: 0.9750 - val_loss: 0.0631 - val_accuracy: 0.9700\n",
            "Epoch 163/200\n",
            "50/50 [==============================] - 0s 9ms/step - loss: 0.0639 - accuracy: 0.9737 - val_loss: 0.0576 - val_accuracy: 0.9650\n",
            "Epoch 164/200\n",
            "50/50 [==============================] - 0s 3ms/step - loss: 0.0607 - accuracy: 0.9762 - val_loss: 0.0492 - val_accuracy: 0.9650\n",
            "Epoch 165/200\n",
            "50/50 [==============================] - 0s 3ms/step - loss: 0.0566 - accuracy: 0.9787 - val_loss: 0.0483 - val_accuracy: 0.9700\n",
            "Epoch 166/200\n",
            "50/50 [==============================] - 0s 3ms/step - loss: 0.0586 - accuracy: 0.9775 - val_loss: 0.0378 - val_accuracy: 0.9850\n",
            "Epoch 167/200\n",
            "50/50 [==============================] - 0s 3ms/step - loss: 0.0611 - accuracy: 0.9737 - val_loss: 0.0435 - val_accuracy: 0.9800\n",
            "Epoch 168/200\n",
            "50/50 [==============================] - 0s 3ms/step - loss: 0.0566 - accuracy: 0.9725 - val_loss: 0.0380 - val_accuracy: 0.9850\n",
            "Epoch 169/200\n",
            "50/50 [==============================] - 0s 4ms/step - loss: 0.0589 - accuracy: 0.9750 - val_loss: 0.0517 - val_accuracy: 0.9700\n",
            "Epoch 170/200\n",
            "50/50 [==============================] - 0s 3ms/step - loss: 0.0569 - accuracy: 0.9787 - val_loss: 0.0389 - val_accuracy: 0.9850\n",
            "Epoch 171/200\n",
            "50/50 [==============================] - 0s 3ms/step - loss: 0.0577 - accuracy: 0.9775 - val_loss: 0.0499 - val_accuracy: 0.9650\n",
            "Epoch 172/200\n",
            "50/50 [==============================] - 0s 3ms/step - loss: 0.0574 - accuracy: 0.9725 - val_loss: 0.0587 - val_accuracy: 0.9700\n",
            "Epoch 173/200\n",
            "50/50 [==============================] - 0s 3ms/step - loss: 0.0573 - accuracy: 0.9775 - val_loss: 0.0389 - val_accuracy: 0.9850\n",
            "Epoch 174/200\n",
            "50/50 [==============================] - 0s 3ms/step - loss: 0.0661 - accuracy: 0.9750 - val_loss: 0.0472 - val_accuracy: 0.9750\n",
            "Epoch 175/200\n",
            "50/50 [==============================] - 0s 3ms/step - loss: 0.0590 - accuracy: 0.9800 - val_loss: 0.0491 - val_accuracy: 0.9750\n",
            "Epoch 176/200\n",
            "50/50 [==============================] - 0s 3ms/step - loss: 0.0585 - accuracy: 0.9787 - val_loss: 0.0595 - val_accuracy: 0.9700\n",
            "Epoch 177/200\n",
            "50/50 [==============================] - 0s 3ms/step - loss: 0.0582 - accuracy: 0.9762 - val_loss: 0.0486 - val_accuracy: 0.9700\n",
            "Epoch 178/200\n",
            "50/50 [==============================] - 0s 3ms/step - loss: 0.0558 - accuracy: 0.9775 - val_loss: 0.0471 - val_accuracy: 0.9700\n",
            "Epoch 179/200\n",
            "50/50 [==============================] - 0s 3ms/step - loss: 0.0619 - accuracy: 0.9725 - val_loss: 0.0486 - val_accuracy: 0.9750\n",
            "Epoch 180/200\n",
            "50/50 [==============================] - 0s 3ms/step - loss: 0.0610 - accuracy: 0.9775 - val_loss: 0.0369 - val_accuracy: 0.9800\n",
            "Epoch 181/200\n",
            "50/50 [==============================] - 0s 3ms/step - loss: 0.0622 - accuracy: 0.9737 - val_loss: 0.0610 - val_accuracy: 0.9700\n",
            "Epoch 182/200\n",
            "50/50 [==============================] - 0s 3ms/step - loss: 0.0608 - accuracy: 0.9725 - val_loss: 0.0468 - val_accuracy: 0.9750\n",
            "Epoch 183/200\n",
            "50/50 [==============================] - 0s 3ms/step - loss: 0.0574 - accuracy: 0.9750 - val_loss: 0.0521 - val_accuracy: 0.9650\n",
            "Epoch 184/200\n",
            "50/50 [==============================] - 0s 3ms/step - loss: 0.0613 - accuracy: 0.9725 - val_loss: 0.0412 - val_accuracy: 0.9800\n",
            "Epoch 185/200\n",
            "50/50 [==============================] - 0s 4ms/step - loss: 0.0603 - accuracy: 0.9762 - val_loss: 0.0407 - val_accuracy: 0.9850\n",
            "Epoch 186/200\n",
            "50/50 [==============================] - 0s 3ms/step - loss: 0.0585 - accuracy: 0.9762 - val_loss: 0.0454 - val_accuracy: 0.9700\n",
            "Epoch 187/200\n",
            "50/50 [==============================] - 0s 3ms/step - loss: 0.0584 - accuracy: 0.9762 - val_loss: 0.0442 - val_accuracy: 0.9800\n",
            "Epoch 188/200\n",
            "50/50 [==============================] - 0s 3ms/step - loss: 0.0581 - accuracy: 0.9700 - val_loss: 0.0511 - val_accuracy: 0.9700\n",
            "Epoch 189/200\n",
            "50/50 [==============================] - 0s 3ms/step - loss: 0.0549 - accuracy: 0.9800 - val_loss: 0.0407 - val_accuracy: 0.9850\n",
            "Epoch 190/200\n",
            "50/50 [==============================] - 0s 3ms/step - loss: 0.0572 - accuracy: 0.9762 - val_loss: 0.0458 - val_accuracy: 0.9750\n",
            "Epoch 191/200\n",
            "50/50 [==============================] - 0s 3ms/step - loss: 0.0564 - accuracy: 0.9775 - val_loss: 0.0504 - val_accuracy: 0.9750\n",
            "Epoch 192/200\n",
            "50/50 [==============================] - 0s 3ms/step - loss: 0.0567 - accuracy: 0.9762 - val_loss: 0.0551 - val_accuracy: 0.9650\n",
            "Epoch 193/200\n",
            "50/50 [==============================] - 0s 3ms/step - loss: 0.0592 - accuracy: 0.9737 - val_loss: 0.0416 - val_accuracy: 0.9800\n",
            "Epoch 194/200\n",
            "50/50 [==============================] - 0s 3ms/step - loss: 0.0569 - accuracy: 0.9775 - val_loss: 0.0570 - val_accuracy: 0.9700\n",
            "Epoch 195/200\n",
            "50/50 [==============================] - 0s 4ms/step - loss: 0.0605 - accuracy: 0.9775 - val_loss: 0.0555 - val_accuracy: 0.9700\n",
            "Epoch 196/200\n",
            "50/50 [==============================] - 0s 3ms/step - loss: 0.0588 - accuracy: 0.9663 - val_loss: 0.0535 - val_accuracy: 0.9650\n",
            "Epoch 197/200\n",
            "50/50 [==============================] - 0s 4ms/step - loss: 0.0564 - accuracy: 0.9762 - val_loss: 0.0529 - val_accuracy: 0.9700\n",
            "Epoch 198/200\n",
            "50/50 [==============================] - 0s 6ms/step - loss: 0.0619 - accuracy: 0.9700 - val_loss: 0.0473 - val_accuracy: 0.9750\n",
            "Epoch 199/200\n",
            "50/50 [==============================] - 0s 5ms/step - loss: 0.0558 - accuracy: 0.9800 - val_loss: 0.0417 - val_accuracy: 0.9800\n",
            "Epoch 200/200\n",
            "50/50 [==============================] - 0s 5ms/step - loss: 0.0572 - accuracy: 0.9787 - val_loss: 0.0419 - val_accuracy: 0.9850\n"
          ]
        }
      ]
    },
    {
      "cell_type": "code",
      "source": [
        "model_2.summary()"
      ],
      "metadata": {
        "colab": {
          "base_uri": "https://localhost:8080/"
        },
        "id": "9SLLETRGcOc9",
        "outputId": "8d99c681-ade5-4c0c-f2bf-1ce8e9963b83"
      },
      "execution_count": null,
      "outputs": [
        {
          "output_type": "stream",
          "name": "stdout",
          "text": [
            "Model: \"sequential_1\"\n",
            "_________________________________________________________________\n",
            " Layer (type)                Output Shape              Param #   \n",
            "=================================================================\n",
            " dense_3 (Dense)             (None, 128)               384       \n",
            "                                                                 \n",
            " dense_4 (Dense)             (None, 128)               16512     \n",
            "                                                                 \n",
            " dense_5 (Dense)             (None, 1)                 129       \n",
            "                                                                 \n",
            "=================================================================\n",
            "Total params: 17025 (66.50 KB)\n",
            "Trainable params: 17025 (66.50 KB)\n",
            "Non-trainable params: 0 (0.00 Byte)\n",
            "_________________________________________________________________\n"
          ]
        }
      ]
    },
    {
      "cell_type": "code",
      "source": [
        "loss2,accuracy2 = model_2.evaluate(X_test_scaled,y_test)"
      ],
      "metadata": {
        "colab": {
          "base_uri": "https://localhost:8080/"
        },
        "id": "JpB0OUvmcbcN",
        "outputId": "4556d91b-06ea-4186-f6dd-7351c8ffbfe2"
      },
      "execution_count": null,
      "outputs": [
        {
          "output_type": "stream",
          "name": "stdout",
          "text": [
            "7/7 [==============================] - 0s 3ms/step - loss: 0.0419 - accuracy: 0.9850\n"
          ]
        }
      ]
    },
    {
      "cell_type": "code",
      "source": [
        "loss2"
      ],
      "metadata": {
        "colab": {
          "base_uri": "https://localhost:8080/"
        },
        "id": "Cvj3CEXWcxqm",
        "outputId": "0ec9eaf3-621e-4924-87db-6a6ecfa65a7d"
      },
      "execution_count": null,
      "outputs": [
        {
          "output_type": "execute_result",
          "data": {
            "text/plain": [
              "0.04190016910433769"
            ]
          },
          "metadata": {},
          "execution_count": 31
        }
      ]
    },
    {
      "cell_type": "code",
      "source": [
        "print(f\"Test accuracy for model 2 is:{accuracy2}\")"
      ],
      "metadata": {
        "colab": {
          "base_uri": "https://localhost:8080/"
        },
        "id": "rn2HgfrwczHD",
        "outputId": "58ba9415-0741-4f70-aadf-64bb2a3f8949"
      },
      "execution_count": null,
      "outputs": [
        {
          "output_type": "stream",
          "name": "stdout",
          "text": [
            "Test accuracy for model 2 is:0.9850000143051147\n"
          ]
        }
      ]
    },
    {
      "cell_type": "markdown",
      "source": [
        "#MODEL:3\n"
      ],
      "metadata": {
        "id": "zPX8nHGIdGyh"
      }
    },
    {
      "cell_type": "code",
      "source": [
        "#set random seed\n",
        "tf.random.set_seed(42)"
      ],
      "metadata": {
        "id": "FgbQX6UIc6N5"
      },
      "execution_count": null,
      "outputs": []
    },
    {
      "cell_type": "code",
      "source": [
        "model_3 = tf.keras.Sequential([\n",
        "    tf.keras.layers.Dense(32,activation='relu',input_shape=(2,)),\n",
        "    tf.keras.layers.Dense(32,activation='relu'),\n",
        "    tf.keras.layers.Dense(1,activation='sigmoid')#output layer\n",
        "])"
      ],
      "metadata": {
        "id": "IeTKVnkqdO2F"
      },
      "execution_count": null,
      "outputs": []
    },
    {
      "cell_type": "code",
      "source": [
        "model_3.compile(optimizer = tf.keras.optimizers.Adam(),\n",
        "                loss=tf.keras.losses.BinaryCrossentropy(),\n",
        "                metrics=['accuracy'])"
      ],
      "metadata": {
        "id": "QTYsW9XHejNP"
      },
      "execution_count": null,
      "outputs": []
    },
    {
      "cell_type": "code",
      "source": [
        "history3 = model_3.fit(X_train_scaled,y_train,epochs=150,batch_size=4,validation_data=(X_test_scaled,y_test))"
      ],
      "metadata": {
        "colab": {
          "base_uri": "https://localhost:8080/"
        },
        "id": "TxM-oa-Tex81",
        "outputId": "d2bddbba-f0af-4c4c-b1cf-a14c4c25457d"
      },
      "execution_count": null,
      "outputs": [
        {
          "output_type": "stream",
          "name": "stdout",
          "text": [
            "Epoch 1/150\n",
            "200/200 [==============================] - 4s 7ms/step - loss: 0.4275 - accuracy: 0.8350 - val_loss: 0.2909 - val_accuracy: 0.8600\n",
            "Epoch 2/150\n",
            "200/200 [==============================] - 0s 2ms/step - loss: 0.2780 - accuracy: 0.8750 - val_loss: 0.2699 - val_accuracy: 0.8800\n",
            "Epoch 3/150\n",
            "200/200 [==============================] - 1s 3ms/step - loss: 0.2624 - accuracy: 0.8763 - val_loss: 0.2448 - val_accuracy: 0.8850\n",
            "Epoch 4/150\n",
            "200/200 [==============================] - 0s 2ms/step - loss: 0.2365 - accuracy: 0.8950 - val_loss: 0.2151 - val_accuracy: 0.8950\n",
            "Epoch 5/150\n",
            "200/200 [==============================] - 1s 3ms/step - loss: 0.2099 - accuracy: 0.9050 - val_loss: 0.1807 - val_accuracy: 0.9250\n",
            "Epoch 6/150\n",
            "200/200 [==============================] - 1s 3ms/step - loss: 0.1812 - accuracy: 0.9275 - val_loss: 0.1514 - val_accuracy: 0.9400\n",
            "Epoch 7/150\n",
            "200/200 [==============================] - 0s 2ms/step - loss: 0.1554 - accuracy: 0.9375 - val_loss: 0.1249 - val_accuracy: 0.9750\n",
            "Epoch 8/150\n",
            "200/200 [==============================] - 0s 2ms/step - loss: 0.1355 - accuracy: 0.9550 - val_loss: 0.1033 - val_accuracy: 0.9800\n",
            "Epoch 9/150\n",
            "200/200 [==============================] - 1s 3ms/step - loss: 0.1196 - accuracy: 0.9613 - val_loss: 0.0890 - val_accuracy: 0.9800\n",
            "Epoch 10/150\n",
            "200/200 [==============================] - 1s 3ms/step - loss: 0.1081 - accuracy: 0.9650 - val_loss: 0.0773 - val_accuracy: 0.9800\n",
            "Epoch 11/150\n",
            "200/200 [==============================] - 0s 2ms/step - loss: 0.1005 - accuracy: 0.9638 - val_loss: 0.0708 - val_accuracy: 0.9800\n",
            "Epoch 12/150\n",
            "200/200 [==============================] - 1s 2ms/step - loss: 0.0915 - accuracy: 0.9663 - val_loss: 0.0644 - val_accuracy: 0.9800\n",
            "Epoch 13/150\n",
            "200/200 [==============================] - 0s 2ms/step - loss: 0.0901 - accuracy: 0.9675 - val_loss: 0.0598 - val_accuracy: 0.9800\n",
            "Epoch 14/150\n",
            "200/200 [==============================] - 0s 2ms/step - loss: 0.0866 - accuracy: 0.9675 - val_loss: 0.0572 - val_accuracy: 0.9900\n",
            "Epoch 15/150\n",
            "200/200 [==============================] - 0s 2ms/step - loss: 0.0826 - accuracy: 0.9725 - val_loss: 0.0551 - val_accuracy: 0.9800\n",
            "Epoch 16/150\n",
            "200/200 [==============================] - 0s 2ms/step - loss: 0.0825 - accuracy: 0.9700 - val_loss: 0.0512 - val_accuracy: 0.9900\n",
            "Epoch 17/150\n",
            "200/200 [==============================] - 1s 3ms/step - loss: 0.0799 - accuracy: 0.9700 - val_loss: 0.0486 - val_accuracy: 0.9900\n",
            "Epoch 18/150\n",
            "200/200 [==============================] - 0s 2ms/step - loss: 0.0808 - accuracy: 0.9688 - val_loss: 0.0496 - val_accuracy: 0.9900\n",
            "Epoch 19/150\n",
            "200/200 [==============================] - 1s 3ms/step - loss: 0.0799 - accuracy: 0.9688 - val_loss: 0.0499 - val_accuracy: 0.9750\n",
            "Epoch 20/150\n",
            "200/200 [==============================] - 1s 3ms/step - loss: 0.0747 - accuracy: 0.9712 - val_loss: 0.0521 - val_accuracy: 0.9850\n",
            "Epoch 21/150\n",
            "200/200 [==============================] - 1s 4ms/step - loss: 0.0754 - accuracy: 0.9712 - val_loss: 0.0454 - val_accuracy: 0.9800\n",
            "Epoch 22/150\n",
            "200/200 [==============================] - 1s 4ms/step - loss: 0.0768 - accuracy: 0.9675 - val_loss: 0.0491 - val_accuracy: 0.9800\n",
            "Epoch 23/150\n",
            "200/200 [==============================] - 1s 3ms/step - loss: 0.0740 - accuracy: 0.9712 - val_loss: 0.0488 - val_accuracy: 0.9800\n",
            "Epoch 24/150\n",
            "200/200 [==============================] - 1s 3ms/step - loss: 0.0723 - accuracy: 0.9700 - val_loss: 0.0421 - val_accuracy: 0.9800\n",
            "Epoch 25/150\n",
            "200/200 [==============================] - 1s 3ms/step - loss: 0.0731 - accuracy: 0.9737 - val_loss: 0.0393 - val_accuracy: 0.9900\n",
            "Epoch 26/150\n",
            "200/200 [==============================] - 1s 3ms/step - loss: 0.0699 - accuracy: 0.9725 - val_loss: 0.0577 - val_accuracy: 0.9700\n",
            "Epoch 27/150\n",
            "200/200 [==============================] - 0s 2ms/step - loss: 0.0729 - accuracy: 0.9737 - val_loss: 0.0467 - val_accuracy: 0.9850\n",
            "Epoch 28/150\n",
            "200/200 [==============================] - 0s 2ms/step - loss: 0.0717 - accuracy: 0.9712 - val_loss: 0.0403 - val_accuracy: 0.9900\n",
            "Epoch 29/150\n",
            "200/200 [==============================] - 1s 3ms/step - loss: 0.0696 - accuracy: 0.9712 - val_loss: 0.0493 - val_accuracy: 0.9750\n",
            "Epoch 30/150\n",
            "200/200 [==============================] - 1s 3ms/step - loss: 0.0701 - accuracy: 0.9737 - val_loss: 0.0419 - val_accuracy: 0.9800\n",
            "Epoch 31/150\n",
            "200/200 [==============================] - 0s 2ms/step - loss: 0.0697 - accuracy: 0.9762 - val_loss: 0.0517 - val_accuracy: 0.9750\n",
            "Epoch 32/150\n",
            "200/200 [==============================] - 1s 3ms/step - loss: 0.0704 - accuracy: 0.9725 - val_loss: 0.0469 - val_accuracy: 0.9750\n",
            "Epoch 33/150\n",
            "200/200 [==============================] - 0s 2ms/step - loss: 0.0698 - accuracy: 0.9725 - val_loss: 0.0425 - val_accuracy: 0.9800\n",
            "Epoch 34/150\n",
            "200/200 [==============================] - 1s 3ms/step - loss: 0.0677 - accuracy: 0.9762 - val_loss: 0.0397 - val_accuracy: 0.9900\n",
            "Epoch 35/150\n",
            "200/200 [==============================] - 1s 3ms/step - loss: 0.0716 - accuracy: 0.9750 - val_loss: 0.0417 - val_accuracy: 0.9800\n",
            "Epoch 36/150\n",
            "200/200 [==============================] - 0s 2ms/step - loss: 0.0673 - accuracy: 0.9725 - val_loss: 0.0428 - val_accuracy: 0.9850\n",
            "Epoch 37/150\n",
            "200/200 [==============================] - 1s 3ms/step - loss: 0.0673 - accuracy: 0.9762 - val_loss: 0.0473 - val_accuracy: 0.9750\n",
            "Epoch 38/150\n",
            "200/200 [==============================] - 1s 3ms/step - loss: 0.0689 - accuracy: 0.9737 - val_loss: 0.0444 - val_accuracy: 0.9700\n",
            "Epoch 39/150\n",
            "200/200 [==============================] - 1s 3ms/step - loss: 0.0647 - accuracy: 0.9787 - val_loss: 0.0485 - val_accuracy: 0.9650\n",
            "Epoch 40/150\n",
            "200/200 [==============================] - 1s 3ms/step - loss: 0.0697 - accuracy: 0.9787 - val_loss: 0.0365 - val_accuracy: 0.9850\n",
            "Epoch 41/150\n",
            "200/200 [==============================] - 1s 3ms/step - loss: 0.0659 - accuracy: 0.9750 - val_loss: 0.0483 - val_accuracy: 0.9750\n",
            "Epoch 42/150\n",
            "200/200 [==============================] - 1s 4ms/step - loss: 0.0665 - accuracy: 0.9762 - val_loss: 0.0400 - val_accuracy: 0.9850\n",
            "Epoch 43/150\n",
            "200/200 [==============================] - 1s 4ms/step - loss: 0.0667 - accuracy: 0.9750 - val_loss: 0.0375 - val_accuracy: 0.9800\n",
            "Epoch 44/150\n",
            "200/200 [==============================] - 1s 3ms/step - loss: 0.0700 - accuracy: 0.9725 - val_loss: 0.0389 - val_accuracy: 0.9850\n",
            "Epoch 45/150\n",
            "200/200 [==============================] - 1s 3ms/step - loss: 0.0694 - accuracy: 0.9750 - val_loss: 0.0465 - val_accuracy: 0.9700\n",
            "Epoch 46/150\n",
            "200/200 [==============================] - 1s 3ms/step - loss: 0.0656 - accuracy: 0.9725 - val_loss: 0.0561 - val_accuracy: 0.9750\n",
            "Epoch 47/150\n",
            "200/200 [==============================] - 0s 2ms/step - loss: 0.0660 - accuracy: 0.9712 - val_loss: 0.0428 - val_accuracy: 0.9700\n",
            "Epoch 48/150\n",
            "200/200 [==============================] - 0s 2ms/step - loss: 0.0673 - accuracy: 0.9725 - val_loss: 0.0368 - val_accuracy: 0.9850\n",
            "Epoch 49/150\n",
            "200/200 [==============================] - 1s 3ms/step - loss: 0.0604 - accuracy: 0.9787 - val_loss: 0.0515 - val_accuracy: 0.9750\n",
            "Epoch 50/150\n",
            "200/200 [==============================] - 0s 2ms/step - loss: 0.0648 - accuracy: 0.9762 - val_loss: 0.0388 - val_accuracy: 0.9850\n",
            "Epoch 51/150\n",
            "200/200 [==============================] - 0s 2ms/step - loss: 0.0648 - accuracy: 0.9688 - val_loss: 0.0396 - val_accuracy: 0.9850\n",
            "Epoch 52/150\n",
            "200/200 [==============================] - 1s 3ms/step - loss: 0.0671 - accuracy: 0.9725 - val_loss: 0.0426 - val_accuracy: 0.9800\n",
            "Epoch 53/150\n",
            "200/200 [==============================] - 0s 2ms/step - loss: 0.0638 - accuracy: 0.9762 - val_loss: 0.0410 - val_accuracy: 0.9750\n",
            "Epoch 54/150\n",
            "200/200 [==============================] - 0s 2ms/step - loss: 0.0627 - accuracy: 0.9725 - val_loss: 0.0360 - val_accuracy: 0.9850\n",
            "Epoch 55/150\n",
            "200/200 [==============================] - 0s 2ms/step - loss: 0.0654 - accuracy: 0.9725 - val_loss: 0.0405 - val_accuracy: 0.9800\n",
            "Epoch 56/150\n",
            "200/200 [==============================] - 0s 2ms/step - loss: 0.0651 - accuracy: 0.9812 - val_loss: 0.0495 - val_accuracy: 0.9750\n",
            "Epoch 57/150\n",
            "200/200 [==============================] - 0s 2ms/step - loss: 0.0661 - accuracy: 0.9712 - val_loss: 0.0405 - val_accuracy: 0.9750\n",
            "Epoch 58/150\n",
            "200/200 [==============================] - 0s 2ms/step - loss: 0.0655 - accuracy: 0.9712 - val_loss: 0.0391 - val_accuracy: 0.9850\n",
            "Epoch 59/150\n",
            "200/200 [==============================] - 0s 2ms/step - loss: 0.0630 - accuracy: 0.9762 - val_loss: 0.0398 - val_accuracy: 0.9800\n",
            "Epoch 60/150\n",
            "200/200 [==============================] - 1s 3ms/step - loss: 0.0637 - accuracy: 0.9737 - val_loss: 0.0420 - val_accuracy: 0.9700\n",
            "Epoch 61/150\n",
            "200/200 [==============================] - 0s 2ms/step - loss: 0.0644 - accuracy: 0.9750 - val_loss: 0.0400 - val_accuracy: 0.9800\n",
            "Epoch 62/150\n",
            "200/200 [==============================] - 0s 2ms/step - loss: 0.0645 - accuracy: 0.9762 - val_loss: 0.0377 - val_accuracy: 0.9850\n",
            "Epoch 63/150\n",
            "200/200 [==============================] - 0s 2ms/step - loss: 0.0640 - accuracy: 0.9762 - val_loss: 0.0387 - val_accuracy: 0.9800\n",
            "Epoch 64/150\n",
            "200/200 [==============================] - 1s 4ms/step - loss: 0.0626 - accuracy: 0.9750 - val_loss: 0.0356 - val_accuracy: 0.9800\n",
            "Epoch 65/150\n",
            "200/200 [==============================] - 1s 4ms/step - loss: 0.0648 - accuracy: 0.9700 - val_loss: 0.0364 - val_accuracy: 0.9850\n",
            "Epoch 66/150\n",
            "200/200 [==============================] - 1s 4ms/step - loss: 0.0632 - accuracy: 0.9775 - val_loss: 0.0377 - val_accuracy: 0.9800\n",
            "Epoch 67/150\n",
            "200/200 [==============================] - 1s 3ms/step - loss: 0.0658 - accuracy: 0.9762 - val_loss: 0.0383 - val_accuracy: 0.9850\n",
            "Epoch 68/150\n",
            "200/200 [==============================] - 1s 3ms/step - loss: 0.0627 - accuracy: 0.9725 - val_loss: 0.0404 - val_accuracy: 0.9750\n",
            "Epoch 69/150\n",
            "200/200 [==============================] - 0s 2ms/step - loss: 0.0613 - accuracy: 0.9775 - val_loss: 0.0505 - val_accuracy: 0.9750\n",
            "Epoch 70/150\n",
            "200/200 [==============================] - 1s 3ms/step - loss: 0.0654 - accuracy: 0.9762 - val_loss: 0.0368 - val_accuracy: 0.9850\n",
            "Epoch 71/150\n",
            "200/200 [==============================] - 1s 3ms/step - loss: 0.0649 - accuracy: 0.9750 - val_loss: 0.0496 - val_accuracy: 0.9750\n",
            "Epoch 72/150\n",
            "200/200 [==============================] - 1s 3ms/step - loss: 0.0636 - accuracy: 0.9737 - val_loss: 0.0392 - val_accuracy: 0.9800\n",
            "Epoch 73/150\n",
            "200/200 [==============================] - 1s 3ms/step - loss: 0.0611 - accuracy: 0.9775 - val_loss: 0.0478 - val_accuracy: 0.9750\n",
            "Epoch 74/150\n",
            "200/200 [==============================] - 0s 2ms/step - loss: 0.0647 - accuracy: 0.9725 - val_loss: 0.0376 - val_accuracy: 0.9850\n",
            "Epoch 75/150\n",
            "200/200 [==============================] - 0s 2ms/step - loss: 0.0650 - accuracy: 0.9712 - val_loss: 0.0419 - val_accuracy: 0.9750\n",
            "Epoch 76/150\n",
            "200/200 [==============================] - 1s 3ms/step - loss: 0.0625 - accuracy: 0.9750 - val_loss: 0.0342 - val_accuracy: 0.9850\n",
            "Epoch 77/150\n",
            "200/200 [==============================] - 0s 2ms/step - loss: 0.0646 - accuracy: 0.9737 - val_loss: 0.0402 - val_accuracy: 0.9800\n",
            "Epoch 78/150\n",
            "200/200 [==============================] - 0s 2ms/step - loss: 0.0622 - accuracy: 0.9725 - val_loss: 0.0444 - val_accuracy: 0.9750\n",
            "Epoch 79/150\n",
            "200/200 [==============================] - 0s 2ms/step - loss: 0.0653 - accuracy: 0.9700 - val_loss: 0.0473 - val_accuracy: 0.9700\n",
            "Epoch 80/150\n",
            "200/200 [==============================] - 1s 3ms/step - loss: 0.0610 - accuracy: 0.9737 - val_loss: 0.0363 - val_accuracy: 0.9850\n",
            "Epoch 81/150\n",
            "200/200 [==============================] - 1s 3ms/step - loss: 0.0628 - accuracy: 0.9787 - val_loss: 0.0362 - val_accuracy: 0.9850\n",
            "Epoch 82/150\n",
            "200/200 [==============================] - 1s 3ms/step - loss: 0.0652 - accuracy: 0.9725 - val_loss: 0.0456 - val_accuracy: 0.9700\n",
            "Epoch 83/150\n",
            "200/200 [==============================] - 0s 2ms/step - loss: 0.0633 - accuracy: 0.9737 - val_loss: 0.0404 - val_accuracy: 0.9850\n",
            "Epoch 84/150\n",
            "200/200 [==============================] - 0s 2ms/step - loss: 0.0618 - accuracy: 0.9762 - val_loss: 0.0404 - val_accuracy: 0.9800\n",
            "Epoch 85/150\n",
            "200/200 [==============================] - 1s 3ms/step - loss: 0.0625 - accuracy: 0.9750 - val_loss: 0.0536 - val_accuracy: 0.9800\n",
            "Epoch 86/150\n",
            "200/200 [==============================] - 1s 4ms/step - loss: 0.0602 - accuracy: 0.9762 - val_loss: 0.0433 - val_accuracy: 0.9750\n",
            "Epoch 87/150\n",
            "200/200 [==============================] - 1s 4ms/step - loss: 0.0652 - accuracy: 0.9750 - val_loss: 0.0382 - val_accuracy: 0.9850\n",
            "Epoch 88/150\n",
            "200/200 [==============================] - 1s 4ms/step - loss: 0.0637 - accuracy: 0.9762 - val_loss: 0.0359 - val_accuracy: 0.9850\n",
            "Epoch 89/150\n",
            "200/200 [==============================] - 1s 3ms/step - loss: 0.0609 - accuracy: 0.9712 - val_loss: 0.0435 - val_accuracy: 0.9700\n",
            "Epoch 90/150\n",
            "200/200 [==============================] - 1s 3ms/step - loss: 0.0635 - accuracy: 0.9737 - val_loss: 0.0437 - val_accuracy: 0.9700\n",
            "Epoch 91/150\n",
            "200/200 [==============================] - 0s 2ms/step - loss: 0.0605 - accuracy: 0.9737 - val_loss: 0.0416 - val_accuracy: 0.9800\n",
            "Epoch 92/150\n",
            "200/200 [==============================] - 1s 2ms/step - loss: 0.0612 - accuracy: 0.9762 - val_loss: 0.0443 - val_accuracy: 0.9700\n",
            "Epoch 93/150\n",
            "200/200 [==============================] - 1s 3ms/step - loss: 0.0620 - accuracy: 0.9775 - val_loss: 0.0458 - val_accuracy: 0.9700\n",
            "Epoch 94/150\n",
            "200/200 [==============================] - 1s 3ms/step - loss: 0.0605 - accuracy: 0.9750 - val_loss: 0.0653 - val_accuracy: 0.9600\n",
            "Epoch 95/150\n",
            "200/200 [==============================] - 1s 3ms/step - loss: 0.0622 - accuracy: 0.9750 - val_loss: 0.0513 - val_accuracy: 0.9700\n",
            "Epoch 96/150\n",
            "200/200 [==============================] - 1s 3ms/step - loss: 0.0615 - accuracy: 0.9737 - val_loss: 0.0390 - val_accuracy: 0.9850\n",
            "Epoch 97/150\n",
            "200/200 [==============================] - 0s 2ms/step - loss: 0.0639 - accuracy: 0.9725 - val_loss: 0.0428 - val_accuracy: 0.9750\n",
            "Epoch 98/150\n",
            "200/200 [==============================] - 0s 2ms/step - loss: 0.0604 - accuracy: 0.9737 - val_loss: 0.0365 - val_accuracy: 0.9850\n",
            "Epoch 99/150\n",
            "200/200 [==============================] - 1s 3ms/step - loss: 0.0632 - accuracy: 0.9700 - val_loss: 0.0389 - val_accuracy: 0.9850\n",
            "Epoch 100/150\n",
            "200/200 [==============================] - 1s 3ms/step - loss: 0.0597 - accuracy: 0.9737 - val_loss: 0.0386 - val_accuracy: 0.9750\n",
            "Epoch 101/150\n",
            "200/200 [==============================] - 1s 2ms/step - loss: 0.0615 - accuracy: 0.9787 - val_loss: 0.0501 - val_accuracy: 0.9800\n",
            "Epoch 102/150\n",
            "200/200 [==============================] - 1s 3ms/step - loss: 0.0611 - accuracy: 0.9737 - val_loss: 0.0390 - val_accuracy: 0.9850\n",
            "Epoch 103/150\n",
            "200/200 [==============================] - 1s 3ms/step - loss: 0.0622 - accuracy: 0.9725 - val_loss: 0.0370 - val_accuracy: 0.9850\n",
            "Epoch 104/150\n",
            "200/200 [==============================] - 1s 3ms/step - loss: 0.0618 - accuracy: 0.9750 - val_loss: 0.0456 - val_accuracy: 0.9700\n",
            "Epoch 105/150\n",
            "200/200 [==============================] - 1s 3ms/step - loss: 0.0612 - accuracy: 0.9712 - val_loss: 0.0408 - val_accuracy: 0.9850\n",
            "Epoch 106/150\n",
            "200/200 [==============================] - 0s 2ms/step - loss: 0.0601 - accuracy: 0.9750 - val_loss: 0.0449 - val_accuracy: 0.9700\n",
            "Epoch 107/150\n",
            "200/200 [==============================] - 1s 3ms/step - loss: 0.0593 - accuracy: 0.9725 - val_loss: 0.0396 - val_accuracy: 0.9800\n",
            "Epoch 108/150\n",
            "200/200 [==============================] - 1s 4ms/step - loss: 0.0626 - accuracy: 0.9737 - val_loss: 0.0390 - val_accuracy: 0.9850\n",
            "Epoch 109/150\n",
            "200/200 [==============================] - 1s 4ms/step - loss: 0.0615 - accuracy: 0.9762 - val_loss: 0.0392 - val_accuracy: 0.9800\n",
            "Epoch 110/150\n",
            "200/200 [==============================] - 1s 4ms/step - loss: 0.0607 - accuracy: 0.9725 - val_loss: 0.0541 - val_accuracy: 0.9750\n",
            "Epoch 111/150\n",
            "200/200 [==============================] - 1s 4ms/step - loss: 0.0622 - accuracy: 0.9750 - val_loss: 0.0414 - val_accuracy: 0.9800\n",
            "Epoch 112/150\n",
            "200/200 [==============================] - 1s 4ms/step - loss: 0.0604 - accuracy: 0.9762 - val_loss: 0.0361 - val_accuracy: 0.9850\n",
            "Epoch 113/150\n",
            "200/200 [==============================] - 1s 4ms/step - loss: 0.0610 - accuracy: 0.9750 - val_loss: 0.0479 - val_accuracy: 0.9700\n",
            "Epoch 114/150\n",
            "200/200 [==============================] - 1s 3ms/step - loss: 0.0593 - accuracy: 0.9725 - val_loss: 0.0389 - val_accuracy: 0.9850\n",
            "Epoch 115/150\n",
            "200/200 [==============================] - 0s 2ms/step - loss: 0.0623 - accuracy: 0.9737 - val_loss: 0.0422 - val_accuracy: 0.9800\n",
            "Epoch 116/150\n",
            "200/200 [==============================] - 0s 2ms/step - loss: 0.0613 - accuracy: 0.9750 - val_loss: 0.0419 - val_accuracy: 0.9800\n",
            "Epoch 117/150\n",
            "200/200 [==============================] - 1s 3ms/step - loss: 0.0551 - accuracy: 0.9737 - val_loss: 0.0585 - val_accuracy: 0.9700\n",
            "Epoch 118/150\n",
            "200/200 [==============================] - 0s 2ms/step - loss: 0.0637 - accuracy: 0.9725 - val_loss: 0.0454 - val_accuracy: 0.9700\n",
            "Epoch 119/150\n",
            "200/200 [==============================] - 1s 3ms/step - loss: 0.0621 - accuracy: 0.9762 - val_loss: 0.0401 - val_accuracy: 0.9850\n",
            "Epoch 120/150\n",
            "200/200 [==============================] - 1s 3ms/step - loss: 0.0614 - accuracy: 0.9725 - val_loss: 0.0465 - val_accuracy: 0.9700\n",
            "Epoch 121/150\n",
            "200/200 [==============================] - 1s 3ms/step - loss: 0.0619 - accuracy: 0.9750 - val_loss: 0.0406 - val_accuracy: 0.9850\n",
            "Epoch 122/150\n",
            "200/200 [==============================] - 1s 3ms/step - loss: 0.0608 - accuracy: 0.9775 - val_loss: 0.0433 - val_accuracy: 0.9800\n",
            "Epoch 123/150\n",
            "200/200 [==============================] - 0s 2ms/step - loss: 0.0595 - accuracy: 0.9737 - val_loss: 0.0449 - val_accuracy: 0.9700\n",
            "Epoch 124/150\n",
            "200/200 [==============================] - 1s 3ms/step - loss: 0.0598 - accuracy: 0.9775 - val_loss: 0.0454 - val_accuracy: 0.9800\n",
            "Epoch 125/150\n",
            "200/200 [==============================] - 0s 2ms/step - loss: 0.0598 - accuracy: 0.9775 - val_loss: 0.0415 - val_accuracy: 0.9800\n",
            "Epoch 126/150\n",
            "200/200 [==============================] - 1s 3ms/step - loss: 0.0604 - accuracy: 0.9775 - val_loss: 0.0429 - val_accuracy: 0.9800\n",
            "Epoch 127/150\n",
            "200/200 [==============================] - 1s 3ms/step - loss: 0.0580 - accuracy: 0.9737 - val_loss: 0.0411 - val_accuracy: 0.9800\n",
            "Epoch 128/150\n",
            "200/200 [==============================] - 1s 4ms/step - loss: 0.0614 - accuracy: 0.9712 - val_loss: 0.0464 - val_accuracy: 0.9800\n",
            "Epoch 129/150\n",
            "200/200 [==============================] - 1s 4ms/step - loss: 0.0620 - accuracy: 0.9775 - val_loss: 0.0420 - val_accuracy: 0.9800\n",
            "Epoch 130/150\n",
            "200/200 [==============================] - 1s 5ms/step - loss: 0.0593 - accuracy: 0.9762 - val_loss: 0.0466 - val_accuracy: 0.9700\n",
            "Epoch 131/150\n",
            "200/200 [==============================] - 1s 4ms/step - loss: 0.0616 - accuracy: 0.9775 - val_loss: 0.0459 - val_accuracy: 0.9700\n",
            "Epoch 132/150\n",
            "200/200 [==============================] - 1s 4ms/step - loss: 0.0605 - accuracy: 0.9750 - val_loss: 0.0489 - val_accuracy: 0.9700\n",
            "Epoch 133/150\n",
            "200/200 [==============================] - 1s 4ms/step - loss: 0.0606 - accuracy: 0.9712 - val_loss: 0.0391 - val_accuracy: 0.9850\n",
            "Epoch 134/150\n",
            "200/200 [==============================] - 1s 4ms/step - loss: 0.0592 - accuracy: 0.9750 - val_loss: 0.0400 - val_accuracy: 0.9850\n",
            "Epoch 135/150\n",
            "200/200 [==============================] - 1s 6ms/step - loss: 0.0590 - accuracy: 0.9725 - val_loss: 0.0494 - val_accuracy: 0.9700\n",
            "Epoch 136/150\n",
            "200/200 [==============================] - 1s 4ms/step - loss: 0.0591 - accuracy: 0.9750 - val_loss: 0.0483 - val_accuracy: 0.9700\n",
            "Epoch 137/150\n",
            "200/200 [==============================] - 1s 4ms/step - loss: 0.0599 - accuracy: 0.9762 - val_loss: 0.0467 - val_accuracy: 0.9650\n",
            "Epoch 138/150\n",
            "200/200 [==============================] - 1s 5ms/step - loss: 0.0609 - accuracy: 0.9725 - val_loss: 0.0475 - val_accuracy: 0.9700\n",
            "Epoch 139/150\n",
            "200/200 [==============================] - 1s 4ms/step - loss: 0.0596 - accuracy: 0.9750 - val_loss: 0.0461 - val_accuracy: 0.9750\n",
            "Epoch 140/150\n",
            "200/200 [==============================] - 1s 3ms/step - loss: 0.0611 - accuracy: 0.9712 - val_loss: 0.0511 - val_accuracy: 0.9700\n",
            "Epoch 141/150\n",
            "200/200 [==============================] - 1s 3ms/step - loss: 0.0592 - accuracy: 0.9737 - val_loss: 0.0435 - val_accuracy: 0.9850\n",
            "Epoch 142/150\n",
            "200/200 [==============================] - 1s 5ms/step - loss: 0.0595 - accuracy: 0.9737 - val_loss: 0.0533 - val_accuracy: 0.9700\n",
            "Epoch 143/150\n",
            "200/200 [==============================] - 2s 8ms/step - loss: 0.0596 - accuracy: 0.9762 - val_loss: 0.0489 - val_accuracy: 0.9700\n",
            "Epoch 144/150\n",
            "200/200 [==============================] - 1s 7ms/step - loss: 0.0627 - accuracy: 0.9762 - val_loss: 0.0536 - val_accuracy: 0.9650\n",
            "Epoch 145/150\n",
            "200/200 [==============================] - 1s 6ms/step - loss: 0.0579 - accuracy: 0.9750 - val_loss: 0.0408 - val_accuracy: 0.9850\n",
            "Epoch 146/150\n",
            "200/200 [==============================] - 1s 5ms/step - loss: 0.0607 - accuracy: 0.9787 - val_loss: 0.0473 - val_accuracy: 0.9800\n",
            "Epoch 147/150\n",
            "200/200 [==============================] - 1s 6ms/step - loss: 0.0578 - accuracy: 0.9750 - val_loss: 0.0433 - val_accuracy: 0.9800\n",
            "Epoch 148/150\n",
            "200/200 [==============================] - 1s 6ms/step - loss: 0.0595 - accuracy: 0.9725 - val_loss: 0.0432 - val_accuracy: 0.9800\n",
            "Epoch 149/150\n",
            "200/200 [==============================] - 2s 10ms/step - loss: 0.0592 - accuracy: 0.9725 - val_loss: 0.0424 - val_accuracy: 0.9800\n",
            "Epoch 150/150\n",
            "200/200 [==============================] - 1s 5ms/step - loss: 0.0587 - accuracy: 0.9750 - val_loss: 0.0396 - val_accuracy: 0.9800\n"
          ]
        }
      ]
    },
    {
      "cell_type": "code",
      "source": [
        "loss3,accuracy3=model_3.evaluate(X_test_scaled,y_test)"
      ],
      "metadata": {
        "colab": {
          "base_uri": "https://localhost:8080/"
        },
        "id": "NNsOZzWMfCkd",
        "outputId": "c1e2ac44-0166-4b93-c397-874863afb686"
      },
      "execution_count": null,
      "outputs": [
        {
          "output_type": "stream",
          "name": "stdout",
          "text": [
            "7/7 [==============================] - 0s 6ms/step - loss: 0.0396 - accuracy: 0.9800\n"
          ]
        }
      ]
    },
    {
      "cell_type": "code",
      "source": [
        "print(f\"Test accuracy for Model: 3 is {accuracy3}\")"
      ],
      "metadata": {
        "colab": {
          "base_uri": "https://localhost:8080/"
        },
        "id": "O3mKibmIfb2g",
        "outputId": "85f715f4-e220-4662-b004-389cd5a16e21"
      },
      "execution_count": null,
      "outputs": [
        {
          "output_type": "stream",
          "name": "stdout",
          "text": [
            "Test accuracy for Model: 3 is 0.9800000190734863\n"
          ]
        }
      ]
    },
    {
      "cell_type": "code",
      "source": [
        "import numpy as np\n",
        "\n",
        "def plot_decision_boundary(model, X, y):\n",
        "  \"\"\"\n",
        "  Plots the decision boundary created by a model predicting on X.\n",
        "  This function has been adapted from two phenomenal resources:\n",
        "   1. CS231n - https://cs231n.github.io/neural-networks-case-study/\n",
        "   2. Made with ML basics - https://github.com/GokuMohandas/MadeWithML/blob/main/notebooks/08_Neural_Networks.ipynb\n",
        "  \"\"\"\n",
        "  # Define the axis boundaries of the plot and create a meshgrid\n",
        "  x_min, x_max = X[:, 0].min() - 0.1, X[:, 0].max() + 0.1\n",
        "  y_min, y_max = X[:, 1].min() - 0.1, X[:, 1].max() + 0.1\n",
        "  xx, yy = np.meshgrid(np.linspace(x_min, x_max, 100),\n",
        "                       np.linspace(y_min, y_max, 100))\n",
        "\n",
        "  # Create X values (we're going to predict on all of these)\n",
        "  x_in = np.c_[xx.ravel(), yy.ravel()] # stack 2D arrays together: https://numpy.org/devdocs/reference/generated/numpy.c_.html\n",
        "\n",
        "  # Make predictions using the trained model\n",
        "  y_pred = model.predict(x_in)\n",
        "\n",
        "  # Check for multi-class\n",
        "  if model.output_shape[-1] > 1: # checks the final dimension of the model's output shape, if this is > (greater than) 1, it's multi-class\n",
        "    print(\"doing multiclass classification...\")\n",
        "    # We have to reshape our predictions to get them ready for plotting\n",
        "    y_pred = np.argmax(y_pred, axis=1).reshape(xx.shape)\n",
        "  else:\n",
        "    print(\"doing binary classifcation...\")\n",
        "    y_pred = np.round(np.max(y_pred, axis=1)).reshape(xx.shape)\n",
        "\n",
        "  # Plot decision boundary\n",
        "  plt.contourf(xx, yy, y_pred, cmap=plt.cm.RdYlBu, alpha=0.7)\n",
        "  plt.scatter(X[:, 0], X[:, 1], c=y, s=40, cmap=plt.cm.RdYlBu)\n",
        "  plt.xlim(xx.min(), xx.max())\n",
        "  plt.ylim(yy.min(), yy.max())"
      ],
      "metadata": {
        "id": "kYjhebBFfkdO"
      },
      "execution_count": null,
      "outputs": []
    },
    {
      "cell_type": "code",
      "source": [
        "#Comparing the results of all 3 models\n",
        "model_results = [[\"model_1\",test_loss,test_accuracy],\n",
        "                 [\"model_2\",loss2,accuracy2],\n",
        "                 [\"model_3\",loss3,accuracy3]\n",
        "\n",
        "]"
      ],
      "metadata": {
        "id": "gD-MTvrigAK8"
      },
      "execution_count": null,
      "outputs": []
    },
    {
      "cell_type": "code",
      "source": [
        "all_results = pd.DataFrame(model_results, columns=[\"model_name\", \"Loss\", \"Accuracy\"])\n",
        "all_results"
      ],
      "metadata": {
        "colab": {
          "base_uri": "https://localhost:8080/",
          "height": 143
        },
        "id": "LlAI6-bpgh54",
        "outputId": "cbeebd98-04d3-40b1-8268-49721a4fc62f"
      },
      "execution_count": null,
      "outputs": [
        {
          "output_type": "execute_result",
          "data": {
            "text/plain": [
              "  model_name      Loss  Accuracy\n",
              "0    model_1  0.044166     0.975\n",
              "1    model_2  0.041900     0.985\n",
              "2    model_3  0.039630     0.980"
            ],
            "text/html": [
              "\n",
              "  <div id=\"df-2ab03756-2e7b-4f1a-8519-9e890cfbee51\" class=\"colab-df-container\">\n",
              "    <div>\n",
              "<style scoped>\n",
              "    .dataframe tbody tr th:only-of-type {\n",
              "        vertical-align: middle;\n",
              "    }\n",
              "\n",
              "    .dataframe tbody tr th {\n",
              "        vertical-align: top;\n",
              "    }\n",
              "\n",
              "    .dataframe thead th {\n",
              "        text-align: right;\n",
              "    }\n",
              "</style>\n",
              "<table border=\"1\" class=\"dataframe\">\n",
              "  <thead>\n",
              "    <tr style=\"text-align: right;\">\n",
              "      <th></th>\n",
              "      <th>model_name</th>\n",
              "      <th>Loss</th>\n",
              "      <th>Accuracy</th>\n",
              "    </tr>\n",
              "  </thead>\n",
              "  <tbody>\n",
              "    <tr>\n",
              "      <th>0</th>\n",
              "      <td>model_1</td>\n",
              "      <td>0.044166</td>\n",
              "      <td>0.975</td>\n",
              "    </tr>\n",
              "    <tr>\n",
              "      <th>1</th>\n",
              "      <td>model_2</td>\n",
              "      <td>0.041900</td>\n",
              "      <td>0.985</td>\n",
              "    </tr>\n",
              "    <tr>\n",
              "      <th>2</th>\n",
              "      <td>model_3</td>\n",
              "      <td>0.039630</td>\n",
              "      <td>0.980</td>\n",
              "    </tr>\n",
              "  </tbody>\n",
              "</table>\n",
              "</div>\n",
              "    <div class=\"colab-df-buttons\">\n",
              "\n",
              "  <div class=\"colab-df-container\">\n",
              "    <button class=\"colab-df-convert\" onclick=\"convertToInteractive('df-2ab03756-2e7b-4f1a-8519-9e890cfbee51')\"\n",
              "            title=\"Convert this dataframe to an interactive table.\"\n",
              "            style=\"display:none;\">\n",
              "\n",
              "  <svg xmlns=\"http://www.w3.org/2000/svg\" height=\"24px\" viewBox=\"0 -960 960 960\">\n",
              "    <path d=\"M120-120v-720h720v720H120Zm60-500h600v-160H180v160Zm220 220h160v-160H400v160Zm0 220h160v-160H400v160ZM180-400h160v-160H180v160Zm440 0h160v-160H620v160ZM180-180h160v-160H180v160Zm440 0h160v-160H620v160Z\"/>\n",
              "  </svg>\n",
              "    </button>\n",
              "\n",
              "  <style>\n",
              "    .colab-df-container {\n",
              "      display:flex;\n",
              "      gap: 12px;\n",
              "    }\n",
              "\n",
              "    .colab-df-convert {\n",
              "      background-color: #E8F0FE;\n",
              "      border: none;\n",
              "      border-radius: 50%;\n",
              "      cursor: pointer;\n",
              "      display: none;\n",
              "      fill: #1967D2;\n",
              "      height: 32px;\n",
              "      padding: 0 0 0 0;\n",
              "      width: 32px;\n",
              "    }\n",
              "\n",
              "    .colab-df-convert:hover {\n",
              "      background-color: #E2EBFA;\n",
              "      box-shadow: 0px 1px 2px rgba(60, 64, 67, 0.3), 0px 1px 3px 1px rgba(60, 64, 67, 0.15);\n",
              "      fill: #174EA6;\n",
              "    }\n",
              "\n",
              "    .colab-df-buttons div {\n",
              "      margin-bottom: 4px;\n",
              "    }\n",
              "\n",
              "    [theme=dark] .colab-df-convert {\n",
              "      background-color: #3B4455;\n",
              "      fill: #D2E3FC;\n",
              "    }\n",
              "\n",
              "    [theme=dark] .colab-df-convert:hover {\n",
              "      background-color: #434B5C;\n",
              "      box-shadow: 0px 1px 3px 1px rgba(0, 0, 0, 0.15);\n",
              "      filter: drop-shadow(0px 1px 2px rgba(0, 0, 0, 0.3));\n",
              "      fill: #FFFFFF;\n",
              "    }\n",
              "  </style>\n",
              "\n",
              "    <script>\n",
              "      const buttonEl =\n",
              "        document.querySelector('#df-2ab03756-2e7b-4f1a-8519-9e890cfbee51 button.colab-df-convert');\n",
              "      buttonEl.style.display =\n",
              "        google.colab.kernel.accessAllowed ? 'block' : 'none';\n",
              "\n",
              "      async function convertToInteractive(key) {\n",
              "        const element = document.querySelector('#df-2ab03756-2e7b-4f1a-8519-9e890cfbee51');\n",
              "        const dataTable =\n",
              "          await google.colab.kernel.invokeFunction('convertToInteractive',\n",
              "                                                    [key], {});\n",
              "        if (!dataTable) return;\n",
              "\n",
              "        const docLinkHtml = 'Like what you see? Visit the ' +\n",
              "          '<a target=\"_blank\" href=https://colab.research.google.com/notebooks/data_table.ipynb>data table notebook</a>'\n",
              "          + ' to learn more about interactive tables.';\n",
              "        element.innerHTML = '';\n",
              "        dataTable['output_type'] = 'display_data';\n",
              "        await google.colab.output.renderOutput(dataTable, element);\n",
              "        const docLink = document.createElement('div');\n",
              "        docLink.innerHTML = docLinkHtml;\n",
              "        element.appendChild(docLink);\n",
              "      }\n",
              "    </script>\n",
              "  </div>\n",
              "\n",
              "\n",
              "<div id=\"df-a00ef8df-7c35-4037-8ee8-9eeb96842337\">\n",
              "  <button class=\"colab-df-quickchart\" onclick=\"quickchart('df-a00ef8df-7c35-4037-8ee8-9eeb96842337')\"\n",
              "            title=\"Suggest charts\"\n",
              "            style=\"display:none;\">\n",
              "\n",
              "<svg xmlns=\"http://www.w3.org/2000/svg\" height=\"24px\"viewBox=\"0 0 24 24\"\n",
              "     width=\"24px\">\n",
              "    <g>\n",
              "        <path d=\"M19 3H5c-1.1 0-2 .9-2 2v14c0 1.1.9 2 2 2h14c1.1 0 2-.9 2-2V5c0-1.1-.9-2-2-2zM9 17H7v-7h2v7zm4 0h-2V7h2v10zm4 0h-2v-4h2v4z\"/>\n",
              "    </g>\n",
              "</svg>\n",
              "  </button>\n",
              "\n",
              "<style>\n",
              "  .colab-df-quickchart {\n",
              "      --bg-color: #E8F0FE;\n",
              "      --fill-color: #1967D2;\n",
              "      --hover-bg-color: #E2EBFA;\n",
              "      --hover-fill-color: #174EA6;\n",
              "      --disabled-fill-color: #AAA;\n",
              "      --disabled-bg-color: #DDD;\n",
              "  }\n",
              "\n",
              "  [theme=dark] .colab-df-quickchart {\n",
              "      --bg-color: #3B4455;\n",
              "      --fill-color: #D2E3FC;\n",
              "      --hover-bg-color: #434B5C;\n",
              "      --hover-fill-color: #FFFFFF;\n",
              "      --disabled-bg-color: #3B4455;\n",
              "      --disabled-fill-color: #666;\n",
              "  }\n",
              "\n",
              "  .colab-df-quickchart {\n",
              "    background-color: var(--bg-color);\n",
              "    border: none;\n",
              "    border-radius: 50%;\n",
              "    cursor: pointer;\n",
              "    display: none;\n",
              "    fill: var(--fill-color);\n",
              "    height: 32px;\n",
              "    padding: 0;\n",
              "    width: 32px;\n",
              "  }\n",
              "\n",
              "  .colab-df-quickchart:hover {\n",
              "    background-color: var(--hover-bg-color);\n",
              "    box-shadow: 0 1px 2px rgba(60, 64, 67, 0.3), 0 1px 3px 1px rgba(60, 64, 67, 0.15);\n",
              "    fill: var(--button-hover-fill-color);\n",
              "  }\n",
              "\n",
              "  .colab-df-quickchart-complete:disabled,\n",
              "  .colab-df-quickchart-complete:disabled:hover {\n",
              "    background-color: var(--disabled-bg-color);\n",
              "    fill: var(--disabled-fill-color);\n",
              "    box-shadow: none;\n",
              "  }\n",
              "\n",
              "  .colab-df-spinner {\n",
              "    border: 2px solid var(--fill-color);\n",
              "    border-color: transparent;\n",
              "    border-bottom-color: var(--fill-color);\n",
              "    animation:\n",
              "      spin 1s steps(1) infinite;\n",
              "  }\n",
              "\n",
              "  @keyframes spin {\n",
              "    0% {\n",
              "      border-color: transparent;\n",
              "      border-bottom-color: var(--fill-color);\n",
              "      border-left-color: var(--fill-color);\n",
              "    }\n",
              "    20% {\n",
              "      border-color: transparent;\n",
              "      border-left-color: var(--fill-color);\n",
              "      border-top-color: var(--fill-color);\n",
              "    }\n",
              "    30% {\n",
              "      border-color: transparent;\n",
              "      border-left-color: var(--fill-color);\n",
              "      border-top-color: var(--fill-color);\n",
              "      border-right-color: var(--fill-color);\n",
              "    }\n",
              "    40% {\n",
              "      border-color: transparent;\n",
              "      border-right-color: var(--fill-color);\n",
              "      border-top-color: var(--fill-color);\n",
              "    }\n",
              "    60% {\n",
              "      border-color: transparent;\n",
              "      border-right-color: var(--fill-color);\n",
              "    }\n",
              "    80% {\n",
              "      border-color: transparent;\n",
              "      border-right-color: var(--fill-color);\n",
              "      border-bottom-color: var(--fill-color);\n",
              "    }\n",
              "    90% {\n",
              "      border-color: transparent;\n",
              "      border-bottom-color: var(--fill-color);\n",
              "    }\n",
              "  }\n",
              "</style>\n",
              "\n",
              "  <script>\n",
              "    async function quickchart(key) {\n",
              "      const quickchartButtonEl =\n",
              "        document.querySelector('#' + key + ' button');\n",
              "      quickchartButtonEl.disabled = true;  // To prevent multiple clicks.\n",
              "      quickchartButtonEl.classList.add('colab-df-spinner');\n",
              "      try {\n",
              "        const charts = await google.colab.kernel.invokeFunction(\n",
              "            'suggestCharts', [key], {});\n",
              "      } catch (error) {\n",
              "        console.error('Error during call to suggestCharts:', error);\n",
              "      }\n",
              "      quickchartButtonEl.classList.remove('colab-df-spinner');\n",
              "      quickchartButtonEl.classList.add('colab-df-quickchart-complete');\n",
              "    }\n",
              "    (() => {\n",
              "      let quickchartButtonEl =\n",
              "        document.querySelector('#df-a00ef8df-7c35-4037-8ee8-9eeb96842337 button');\n",
              "      quickchartButtonEl.style.display =\n",
              "        google.colab.kernel.accessAllowed ? 'block' : 'none';\n",
              "    })();\n",
              "  </script>\n",
              "</div>\n",
              "\n",
              "  <div id=\"id_9722b148-0a11-411f-a905-fe464ab12c05\">\n",
              "    <style>\n",
              "      .colab-df-generate {\n",
              "        background-color: #E8F0FE;\n",
              "        border: none;\n",
              "        border-radius: 50%;\n",
              "        cursor: pointer;\n",
              "        display: none;\n",
              "        fill: #1967D2;\n",
              "        height: 32px;\n",
              "        padding: 0 0 0 0;\n",
              "        width: 32px;\n",
              "      }\n",
              "\n",
              "      .colab-df-generate:hover {\n",
              "        background-color: #E2EBFA;\n",
              "        box-shadow: 0px 1px 2px rgba(60, 64, 67, 0.3), 0px 1px 3px 1px rgba(60, 64, 67, 0.15);\n",
              "        fill: #174EA6;\n",
              "      }\n",
              "\n",
              "      [theme=dark] .colab-df-generate {\n",
              "        background-color: #3B4455;\n",
              "        fill: #D2E3FC;\n",
              "      }\n",
              "\n",
              "      [theme=dark] .colab-df-generate:hover {\n",
              "        background-color: #434B5C;\n",
              "        box-shadow: 0px 1px 3px 1px rgba(0, 0, 0, 0.15);\n",
              "        filter: drop-shadow(0px 1px 2px rgba(0, 0, 0, 0.3));\n",
              "        fill: #FFFFFF;\n",
              "      }\n",
              "    </style>\n",
              "    <button class=\"colab-df-generate\" onclick=\"generateWithVariable('all_results')\"\n",
              "            title=\"Generate code using this dataframe.\"\n",
              "            style=\"display:none;\">\n",
              "\n",
              "  <svg xmlns=\"http://www.w3.org/2000/svg\" height=\"24px\"viewBox=\"0 0 24 24\"\n",
              "       width=\"24px\">\n",
              "    <path d=\"M7,19H8.4L18.45,9,17,7.55,7,17.6ZM5,21V16.75L18.45,3.32a2,2,0,0,1,2.83,0l1.4,1.43a1.91,1.91,0,0,1,.58,1.4,1.91,1.91,0,0,1-.58,1.4L9.25,21ZM18.45,9,17,7.55Zm-12,3A5.31,5.31,0,0,0,4.9,8.1,5.31,5.31,0,0,0,1,6.5,5.31,5.31,0,0,0,4.9,4.9,5.31,5.31,0,0,0,6.5,1,5.31,5.31,0,0,0,8.1,4.9,5.31,5.31,0,0,0,12,6.5,5.46,5.46,0,0,0,6.5,12Z\"/>\n",
              "  </svg>\n",
              "    </button>\n",
              "    <script>\n",
              "      (() => {\n",
              "      const buttonEl =\n",
              "        document.querySelector('#id_9722b148-0a11-411f-a905-fe464ab12c05 button.colab-df-generate');\n",
              "      buttonEl.style.display =\n",
              "        google.colab.kernel.accessAllowed ? 'block' : 'none';\n",
              "\n",
              "      buttonEl.onclick = () => {\n",
              "        google.colab.notebook.generateWithVariable('all_results');\n",
              "      }\n",
              "      })();\n",
              "    </script>\n",
              "  </div>\n",
              "\n",
              "    </div>\n",
              "  </div>\n"
            ]
          },
          "metadata": {},
          "execution_count": 43
        }
      ]
    },
    {
      "cell_type": "code",
      "source": [
        "#plotting the decision boundary for model_2\n",
        "plot_decision_boundary(model_2, X, y)"
      ],
      "metadata": {
        "colab": {
          "base_uri": "https://localhost:8080/",
          "height": 466
        },
        "id": "u--cv8EDgpp6",
        "outputId": "f12306a0-7cd5-4038-f23a-170420e23e0d"
      },
      "execution_count": null,
      "outputs": [
        {
          "output_type": "stream",
          "name": "stdout",
          "text": [
            "313/313 [==============================] - 1s 4ms/step\n",
            "doing binary classifcation...\n"
          ]
        },
        {
          "output_type": "display_data",
          "data": {
            "text/plain": [
              "<Figure size 640x480 with 1 Axes>"
            ],
            "image/png": "[encoded data removed]"
          },
          "metadata": {}
        }
      ]
    },
    {
      "cell_type": "code",
      "source": [],
      "metadata": {
        "id": "irKU3RAeg6E_"
      },
      "execution_count": null,
      "outputs": []
    }
  ]
}